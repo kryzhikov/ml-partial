{
 "cells": [
  {
   "cell_type": "markdown",
   "id": "1c64e979",
   "metadata": {},
   "source": [
    "# Оптимизация методом градиентного спуска\n",
    "Дана функция одной переменной"
   ]
  },
  {
   "cell_type": "code",
   "execution_count": null,
   "id": "5ffac356",
   "metadata": {},
   "outputs": [],
   "source": [
    "import numpy as np\n",
    "from matplotlib import pyplot as plt\n",
    "\n",
    "def f(x):\n",
    "    return x ** 2 - np.exp(2 * x - 2) + 3\n",
    "\n",
    "X0 = -1.5"
   ]
  },
  {
   "cell_type": "markdown",
   "id": "dd49ba0c",
   "metadata": {},
   "source": [
    "Визуализируем функцию и начальную точку X0"
   ]
  },
  {
   "cell_type": "code",
   "execution_count": null,
   "id": "849f4be2",
   "metadata": {},
   "outputs": [],
   "source": [
    "xs = np.linspace(-2, 2, 1000)\n",
    "plt.plot(xs, f(xs))\n",
    "plt.scatter([X0], [f(X0)], marker=\"o\", color=\"r\")"
   ]
  },
  {
   "cell_type": "markdown",
   "id": "1fe7e0f9",
   "metadata": {},
   "source": [
    "**Задание 1.** Вычислите производную функции f."
   ]
  },
  {
   "cell_type": "code",
   "execution_count": null,
   "id": "f3003335",
   "metadata": {},
   "outputs": [],
   "source": [
    "def g(x):\n",
    "    \"\"\"Возвращает производную функци f в точке x.\"\"\"\n",
    "    return ...  # Ваш код.\n",
    "\n",
    "assert abs(g(1)) < 1e-6"
   ]
  },
  {
   "cell_type": "markdown",
   "id": "06325e0d",
   "metadata": {},
   "source": [
    "**Задание 2.** Реализуйте шаг градиентного спуска с размером шага lr."
   ]
  },
  {
   "cell_type": "code",
   "execution_count": null,
   "id": "9a3d8b29",
   "metadata": {},
   "outputs": [],
   "source": [
    "def step(x, lr=0.1):\n",
    "    \"\"\"Функция возвращает новую точку x_new, после совершения шага градиентного спуска.\"\"\"\n",
    "    return ...  # Ваш код.\n",
    "\n",
    "assert abs(step(X0) + 1.1986524106001828) < 1e-6"
   ]
  },
  {
   "cell_type": "markdown",
   "id": "c0fc250a",
   "metadata": {},
   "source": [
    "**Задание 3.** Сделайте 100 шагов градиентного спуска из точки X0. Чем равен X в конце?"
   ]
  },
  {
   "cell_type": "code",
   "execution_count": null,
   "id": "5f21c586",
   "metadata": {},
   "outputs": [],
   "source": [
    "# Ваш код\n",
    "\n",
    "x_final = ..."
   ]
  },
  {
   "cell_type": "code",
   "execution_count": null,
   "id": "1f37d8bc",
   "metadata": {},
   "outputs": [],
   "source": [
    "print(x_final)\n",
    "xs = np.linspace(-2, 2, 1000)\n",
    "plt.plot(xs, f(xs))\n",
    "plt.scatter([x_final], [f(x_final)], marker=\"o\", color=\"r\")"
   ]
  },
  {
   "cell_type": "markdown",
   "id": "0f0b978c",
   "metadata": {},
   "source": [
    "**Задание 4.** Что будет, если сделать шаг lr=1? Почему?"
   ]
  },
  {
   "cell_type": "markdown",
   "id": "a23fdf8d",
   "metadata": {},
   "source": [
    "**Задание 5.** Что будет, если сделать X0=0.5 и шаг lr=-0.1?"
   ]
  }
 ],
 "metadata": {
  "kernelspec": {
   "display_name": "Python 3",
   "language": "python",
   "name": "python3"
  },
  "language_info": {
   "codemirror_mode": {
    "name": "ipython",
    "version": 3
   },
   "file_extension": ".py",
   "mimetype": "text/x-python",
   "name": "python",
   "nbconvert_exporter": "python",
   "pygments_lexer": "ipython3",
   "version": "3.8.9"
  }
 },
 "nbformat": 4,
 "nbformat_minor": 5
}
