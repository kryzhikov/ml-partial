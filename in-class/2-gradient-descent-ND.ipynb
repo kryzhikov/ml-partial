{
 "cells": [
  {
   "cell_type": "markdown",
   "id": "1c64e979",
   "metadata": {},
   "source": [
    "# Оптимизация методом градиентного спуска\n",
    "\n",
    "Предлагается реализовать градиентный спуск для поиска оптимального значения $x$, минимизирующего значение функционала $l$.\n",
    "\n",
    "$x = (x_1, x_2)$\n",
    "\n",
    "$y = Ax + b$\n",
    "\n",
    "$z = \\sigma(y)$\n",
    "\n",
    "$l = (z_1 - 0.1)^2 + (z_2 - 0.2)^2 + (z_3 - 0.3)^2$\n",
    "\n",
    "$A = \\begin{pmatrix} 1 & 2 \\\\ -1 & 0 \\\\ 0 & -1 \\\\ \\end{pmatrix}$, $b = \\begin{pmatrix} 1 \\\\ 0 \\\\ -1 \\end{pmatrix}$\n",
    "\n",
    "$\\sigma_i(x) = \\frac{1}{1 + e^{-x_i}}$."
   ]
  },
  {
   "cell_type": "code",
   "execution_count": null,
   "id": "e887793a",
   "metadata": {},
   "outputs": [],
   "source": [
    "import numpy as np\n",
    "\n",
    "# Матрица A функци y(x).\n",
    "A = np.array([\n",
    "    [1, 2],\n",
    "    [-1, 0],\n",
    "    [0, -1]\n",
    "])\n",
    "\n",
    "# Вектор b функции y(x).\n",
    "b = np.array([1, 0, -1])\n",
    "\n",
    "# Целевой вектор функции l(z).\n",
    "t = np.array([0.1, 0.2, 0.3])\n",
    "\n",
    "# Начальное значение X.\n",
    "X0 = np.array([-3, 4])\n",
    "\n",
    "\n",
    "def sigmoid(x):\n",
    "    return 1 / (1 + np.exp(-x))\n",
    "\n",
    "def f_y(x):\n",
    "    return A @ x + b\n",
    "\n",
    "def f_z(y):\n",
    "    return sigmoid(y)\n",
    "\n",
    "def f_l(z):\n",
    "    return ((z - t) ** 2).sum()"
   ]
  },
  {
   "cell_type": "markdown",
   "id": "46fe5a72",
   "metadata": {},
   "source": [
    "### Визуализируем зависимость $l$ от $x$."
   ]
  },
  {
   "cell_type": "code",
   "execution_count": null,
   "id": "99fd1493",
   "metadata": {},
   "outputs": [],
   "source": [
    "import matplotlib.pyplot as plt\n",
    "from matplotlib import cm\n",
    "from matplotlib.patches import Circle\n",
    "\n",
    "def show(point):\n",
    "    fig, ax = plt.subplots(subplot_kw={\"projection\": \"3d\"})\n",
    "\n",
    "    # Make data.\n",
    "    X1 = np.arange(-5, 5, 0.25)\n",
    "    X2 = np.arange(-5, 5, 0.25)\n",
    "    X1, X2 = np.meshgrid(X1, X2)\n",
    "    X = np.stack([X1, X2], axis=-1)\n",
    "    Z = sigmoid(X @ A.T + b)\n",
    "    L = ((Z - t) ** 2).sum(axis=-1)\n",
    "\n",
    "    ax.plot_surface(X1, X2, L, cmap=cm.coolwarm, alpha=0.4,\n",
    "                    linewidth=0, antialiased=False, zorder=100)\n",
    "    \n",
    "    PL = ((sigmoid(A @ point + b) - t) ** 2).sum()\n",
    "    ax.plot([point[0]], [point[1]], [PL], marker=\"o\", color=\"r\")\n",
    "\n",
    "    plt.show()\n",
    "    \n",
    "show(X0)"
   ]
  },
  {
   "cell_type": "markdown",
   "id": "1fe7e0f9",
   "metadata": {},
   "source": [
    "**Задание 1.** Вычислите матрицу Якоби функции $y(x)$."
   ]
  },
  {
   "cell_type": "code",
   "execution_count": null,
   "id": "2fb0f6da",
   "metadata": {},
   "outputs": [],
   "source": [
    "def A_y(x):\n",
    "    return ...  # Ваш код.\n",
    "\n",
    "print(A_y(X0))\n",
    "assert A_y(X0).shape == (3, 2)\n",
    "assert abs(A_y(X0)[1, 0] + 1) < 1e-6"
   ]
  },
  {
   "cell_type": "markdown",
   "id": "dd46f1e4",
   "metadata": {},
   "source": [
    "**Задание 2.** Вычислите матрицу Якоби функции $z(y)$."
   ]
  },
  {
   "cell_type": "code",
   "execution_count": null,
   "id": "77ef5417",
   "metadata": {},
   "outputs": [],
   "source": [
    "def A_z(y):\n",
    "    return ...  # Ваш код.\n",
    "\n",
    "print(A_z(f_y(X0)))\n",
    "assert A_z(f_y(X0)).shape == (3, 3)\n",
    "assert abs(A_z(f_y(X0))[1, 1] - sigmoid(3) * sigmoid(-3)) < 1e-6"
   ]
  },
  {
   "cell_type": "markdown",
   "id": "b53086f2",
   "metadata": {},
   "source": [
    "**Задание 3.** Вычислите матрицу Якоби функции $l(z)$."
   ]
  },
  {
   "cell_type": "code",
   "execution_count": null,
   "id": "5ffac356",
   "metadata": {},
   "outputs": [],
   "source": [
    "def A_l(z):\n",
    "    return ...  # Ваш код.\n",
    "\n",
    "print(A_l(f_z(f_y(X0))))\n",
    "assert A_l(f_z(f_y(X0))).shape == (1, 3)\n",
    "assert abs(A_l(f_z(f_y(X0)))[0, 1] - 2 * sigmoid(3) + 0.4) < 1e-6"
   ]
  },
  {
   "cell_type": "markdown",
   "id": "c21f80a3",
   "metadata": {},
   "source": [
    "**Задание 4.** Реализуйте шаг градиентного спуска."
   ]
  },
  {
   "cell_type": "code",
   "execution_count": null,
   "id": "e161f464",
   "metadata": {},
   "outputs": [],
   "source": [
    "def step(x, lr=1):\n",
    "    \"\"\"Функция возвращает новый вектор x_new, после совершения шага градиентного спуска.\"\"\"\n",
    "    # Ваш код.\n",
    "    return ...\n",
    "\n",
    "assert np.linalg.norm(step(X0) - np.array([-2.93642995,  3.98724512])) < 1e-6"
   ]
  },
  {
   "cell_type": "markdown",
   "id": "f738205b",
   "metadata": {},
   "source": [
    "**Задание 5.** Сделайте 1000 шагов методом градиентного спуска из точки X0."
   ]
  },
  {
   "cell_type": "code",
   "execution_count": null,
   "id": "eb07592f",
   "metadata": {},
   "outputs": [],
   "source": [
    "# Ваш код.\n",
    "    \n",
    "final_x = ..."
   ]
  },
  {
   "cell_type": "code",
   "execution_count": null,
   "id": "e59b224f",
   "metadata": {},
   "outputs": [],
   "source": [
    "print(\"Final X:\", final_x)\n",
    "print(\"Final l:\", f_l(f_z(f_y(final_x))))\n",
    "show(final_x)"
   ]
  },
  {
   "cell_type": "markdown",
   "id": "ba73ecd9",
   "metadata": {},
   "source": [
    "### Удалось ли достичь минимума функции $l$?"
   ]
  },
  {
   "cell_type": "markdown",
   "id": "78e6f624",
   "metadata": {},
   "source": [
    "**Задание 6.** Что будет, если сделать 100 шагов вместо 1000?"
   ]
  }
 ],
 "metadata": {
  "kernelspec": {
   "display_name": "Python 3",
   "language": "python",
   "name": "python3"
  },
  "language_info": {
   "codemirror_mode": {
    "name": "ipython",
    "version": 3
   },
   "file_extension": ".py",
   "mimetype": "text/x-python",
   "name": "python",
   "nbconvert_exporter": "python",
   "pygments_lexer": "ipython3",
   "version": "3.8.9"
  }
 },
 "nbformat": 4,
 "nbformat_minor": 5
}
