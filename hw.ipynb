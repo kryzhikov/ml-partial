{
  "cells": [
    {
      "cell_type": "code",
      "execution_count": 266,
      "metadata": {
        "id": "Or09eIWGRKz1"
      },
      "outputs": [],
      "source": [
        "import pandas as pd\n",
        "import plotly.express as px\n",
        "import plotly.io as pio\n",
        "\n",
        "pio.renderers.default = 'colab' # использую колаб \n",
        "pio.templates.default = 'plotly'"
      ]
    },
    {
      "cell_type": "code",
      "execution_count": 267,
      "metadata": {
        "id": "8yAlhNYLRKz3"
      },
      "outputs": [],
      "source": [
        "aapl_df = pd.read_csv('AAPL.csv')\n",
        "btc_df = pd.read_csv('BTC.csv')\n",
        "gas_df = pd.read_csv('GAS.csv')\n",
        "aapl_df['date'] = aapl_df['date'].apply(lambda x: pd.to_datetime(x))\n",
        "btc_df['date'] = btc_df['date'].apply(lambda x: pd.to_datetime(x))\n",
        "gas_df['Date'] = gas_df['Date'].apply(lambda x: pd.to_datetime(x))"
      ]
    },
    {
      "cell_type": "code",
      "source": [
        "btc_df"
      ],
      "metadata": {
        "colab": {
          "base_uri": "https://localhost:8080/",
          "height": 423
        },
        "id": "0pQK-EXOXZvY",
        "outputId": "a6f7a866-0d5c-40b8-8b56-215f68bf40e2"
      },
      "execution_count": 268,
      "outputs": [
        {
          "output_type": "execute_result",
          "data": {
            "text/plain": [
              "           date      Open      High       Low     Close         Volume\n",
              "0    2019-09-23  10028.05  10049.99   9615.77   9702.25   31937.232356\n",
              "1    2019-09-24   9702.20   9794.99   7800.00   8493.14   94007.345203\n",
              "2    2019-09-25   8497.55   8730.00   8215.64   8430.05   60783.892258\n",
              "3    2019-09-26   8430.05   8465.99   7750.00   8063.73   67930.853749\n",
              "4    2019-09-27   8063.49   8265.00   7852.15   8177.91   43882.924625\n",
              "...         ...       ...       ...       ...       ...            ...\n",
              "1254 2023-02-28  23492.09  23600.00  23020.97  23141.57  264140.998940\n",
              "1255 2023-03-01  23141.57  24000.00  23020.03  23628.97  315287.417370\n",
              "1256 2023-03-02  23629.76  23796.93  23195.90  23465.32  239315.452190\n",
              "1257 2023-03-03  23465.32  23476.95  21971.13  22354.34  319954.197850\n",
              "1258 2023-03-04  22354.34  22410.00  22269.94  22349.22   56219.244110\n",
              "\n",
              "[1259 rows x 6 columns]"
            ],
            "text/html": [
              "\n",
              "  <div id=\"df-33db9ef7-7369-42c9-9f2b-04fcc733e103\">\n",
              "    <div class=\"colab-df-container\">\n",
              "      <div>\n",
              "<style scoped>\n",
              "    .dataframe tbody tr th:only-of-type {\n",
              "        vertical-align: middle;\n",
              "    }\n",
              "\n",
              "    .dataframe tbody tr th {\n",
              "        vertical-align: top;\n",
              "    }\n",
              "\n",
              "    .dataframe thead th {\n",
              "        text-align: right;\n",
              "    }\n",
              "</style>\n",
              "<table border=\"1\" class=\"dataframe\">\n",
              "  <thead>\n",
              "    <tr style=\"text-align: right;\">\n",
              "      <th></th>\n",
              "      <th>date</th>\n",
              "      <th>Open</th>\n",
              "      <th>High</th>\n",
              "      <th>Low</th>\n",
              "      <th>Close</th>\n",
              "      <th>Volume</th>\n",
              "    </tr>\n",
              "  </thead>\n",
              "  <tbody>\n",
              "    <tr>\n",
              "      <th>0</th>\n",
              "      <td>2019-09-23</td>\n",
              "      <td>10028.05</td>\n",
              "      <td>10049.99</td>\n",
              "      <td>9615.77</td>\n",
              "      <td>9702.25</td>\n",
              "      <td>31937.232356</td>\n",
              "    </tr>\n",
              "    <tr>\n",
              "      <th>1</th>\n",
              "      <td>2019-09-24</td>\n",
              "      <td>9702.20</td>\n",
              "      <td>9794.99</td>\n",
              "      <td>7800.00</td>\n",
              "      <td>8493.14</td>\n",
              "      <td>94007.345203</td>\n",
              "    </tr>\n",
              "    <tr>\n",
              "      <th>2</th>\n",
              "      <td>2019-09-25</td>\n",
              "      <td>8497.55</td>\n",
              "      <td>8730.00</td>\n",
              "      <td>8215.64</td>\n",
              "      <td>8430.05</td>\n",
              "      <td>60783.892258</td>\n",
              "    </tr>\n",
              "    <tr>\n",
              "      <th>3</th>\n",
              "      <td>2019-09-26</td>\n",
              "      <td>8430.05</td>\n",
              "      <td>8465.99</td>\n",
              "      <td>7750.00</td>\n",
              "      <td>8063.73</td>\n",
              "      <td>67930.853749</td>\n",
              "    </tr>\n",
              "    <tr>\n",
              "      <th>4</th>\n",
              "      <td>2019-09-27</td>\n",
              "      <td>8063.49</td>\n",
              "      <td>8265.00</td>\n",
              "      <td>7852.15</td>\n",
              "      <td>8177.91</td>\n",
              "      <td>43882.924625</td>\n",
              "    </tr>\n",
              "    <tr>\n",
              "      <th>...</th>\n",
              "      <td>...</td>\n",
              "      <td>...</td>\n",
              "      <td>...</td>\n",
              "      <td>...</td>\n",
              "      <td>...</td>\n",
              "      <td>...</td>\n",
              "    </tr>\n",
              "    <tr>\n",
              "      <th>1254</th>\n",
              "      <td>2023-02-28</td>\n",
              "      <td>23492.09</td>\n",
              "      <td>23600.00</td>\n",
              "      <td>23020.97</td>\n",
              "      <td>23141.57</td>\n",
              "      <td>264140.998940</td>\n",
              "    </tr>\n",
              "    <tr>\n",
              "      <th>1255</th>\n",
              "      <td>2023-03-01</td>\n",
              "      <td>23141.57</td>\n",
              "      <td>24000.00</td>\n",
              "      <td>23020.03</td>\n",
              "      <td>23628.97</td>\n",
              "      <td>315287.417370</td>\n",
              "    </tr>\n",
              "    <tr>\n",
              "      <th>1256</th>\n",
              "      <td>2023-03-02</td>\n",
              "      <td>23629.76</td>\n",
              "      <td>23796.93</td>\n",
              "      <td>23195.90</td>\n",
              "      <td>23465.32</td>\n",
              "      <td>239315.452190</td>\n",
              "    </tr>\n",
              "    <tr>\n",
              "      <th>1257</th>\n",
              "      <td>2023-03-03</td>\n",
              "      <td>23465.32</td>\n",
              "      <td>23476.95</td>\n",
              "      <td>21971.13</td>\n",
              "      <td>22354.34</td>\n",
              "      <td>319954.197850</td>\n",
              "    </tr>\n",
              "    <tr>\n",
              "      <th>1258</th>\n",
              "      <td>2023-03-04</td>\n",
              "      <td>22354.34</td>\n",
              "      <td>22410.00</td>\n",
              "      <td>22269.94</td>\n",
              "      <td>22349.22</td>\n",
              "      <td>56219.244110</td>\n",
              "    </tr>\n",
              "  </tbody>\n",
              "</table>\n",
              "<p>1259 rows × 6 columns</p>\n",
              "</div>\n",
              "      <button class=\"colab-df-convert\" onclick=\"convertToInteractive('df-33db9ef7-7369-42c9-9f2b-04fcc733e103')\"\n",
              "              title=\"Convert this dataframe to an interactive table.\"\n",
              "              style=\"display:none;\">\n",
              "        \n",
              "  <svg xmlns=\"http://www.w3.org/2000/svg\" height=\"24px\"viewBox=\"0 0 24 24\"\n",
              "       width=\"24px\">\n",
              "    <path d=\"M0 0h24v24H0V0z\" fill=\"none\"/>\n",
              "    <path d=\"M18.56 5.44l.94 2.06.94-2.06 2.06-.94-2.06-.94-.94-2.06-.94 2.06-2.06.94zm-11 1L8.5 8.5l.94-2.06 2.06-.94-2.06-.94L8.5 2.5l-.94 2.06-2.06.94zm10 10l.94 2.06.94-2.06 2.06-.94-2.06-.94-.94-2.06-.94 2.06-2.06.94z\"/><path d=\"M17.41 7.96l-1.37-1.37c-.4-.4-.92-.59-1.43-.59-.52 0-1.04.2-1.43.59L10.3 9.45l-7.72 7.72c-.78.78-.78 2.05 0 2.83L4 21.41c.39.39.9.59 1.41.59.51 0 1.02-.2 1.41-.59l7.78-7.78 2.81-2.81c.8-.78.8-2.07 0-2.86zM5.41 20L4 18.59l7.72-7.72 1.47 1.35L5.41 20z\"/>\n",
              "  </svg>\n",
              "      </button>\n",
              "      \n",
              "  <style>\n",
              "    .colab-df-container {\n",
              "      display:flex;\n",
              "      flex-wrap:wrap;\n",
              "      gap: 12px;\n",
              "    }\n",
              "\n",
              "    .colab-df-convert {\n",
              "      background-color: #E8F0FE;\n",
              "      border: none;\n",
              "      border-radius: 50%;\n",
              "      cursor: pointer;\n",
              "      display: none;\n",
              "      fill: #1967D2;\n",
              "      height: 32px;\n",
              "      padding: 0 0 0 0;\n",
              "      width: 32px;\n",
              "    }\n",
              "\n",
              "    .colab-df-convert:hover {\n",
              "      background-color: #E2EBFA;\n",
              "      box-shadow: 0px 1px 2px rgba(60, 64, 67, 0.3), 0px 1px 3px 1px rgba(60, 64, 67, 0.15);\n",
              "      fill: #174EA6;\n",
              "    }\n",
              "\n",
              "    [theme=dark] .colab-df-convert {\n",
              "      background-color: #3B4455;\n",
              "      fill: #D2E3FC;\n",
              "    }\n",
              "\n",
              "    [theme=dark] .colab-df-convert:hover {\n",
              "      background-color: #434B5C;\n",
              "      box-shadow: 0px 1px 3px 1px rgba(0, 0, 0, 0.15);\n",
              "      filter: drop-shadow(0px 1px 2px rgba(0, 0, 0, 0.3));\n",
              "      fill: #FFFFFF;\n",
              "    }\n",
              "  </style>\n",
              "\n",
              "      <script>\n",
              "        const buttonEl =\n",
              "          document.querySelector('#df-33db9ef7-7369-42c9-9f2b-04fcc733e103 button.colab-df-convert');\n",
              "        buttonEl.style.display =\n",
              "          google.colab.kernel.accessAllowed ? 'block' : 'none';\n",
              "\n",
              "        async function convertToInteractive(key) {\n",
              "          const element = document.querySelector('#df-33db9ef7-7369-42c9-9f2b-04fcc733e103');\n",
              "          const dataTable =\n",
              "            await google.colab.kernel.invokeFunction('convertToInteractive',\n",
              "                                                     [key], {});\n",
              "          if (!dataTable) return;\n",
              "\n",
              "          const docLinkHtml = 'Like what you see? Visit the ' +\n",
              "            '<a target=\"_blank\" href=https://colab.research.google.com/notebooks/data_table.ipynb>data table notebook</a>'\n",
              "            + ' to learn more about interactive tables.';\n",
              "          element.innerHTML = '';\n",
              "          dataTable['output_type'] = 'display_data';\n",
              "          await google.colab.output.renderOutput(dataTable, element);\n",
              "          const docLink = document.createElement('div');\n",
              "          docLink.innerHTML = docLinkHtml;\n",
              "          element.appendChild(docLink);\n",
              "        }\n",
              "      </script>\n",
              "    </div>\n",
              "  </div>\n",
              "  "
            ]
          },
          "metadata": {},
          "execution_count": 268
        }
      ]
    },
    {
      "cell_type": "code",
      "execution_count": 269,
      "metadata": {
        "id": "UVBI0I5HRKz4"
      },
      "outputs": [],
      "source": [
        "fig = px.scatter(data_frame=aapl_df, x='date', y='Adj Close', trendline='ols', title='AAPL')\n",
        "fig.show()\n"
      ]
    },
    {
      "cell_type": "code",
      "execution_count": 270,
      "metadata": {
        "id": "oijmUFwmRKz4"
      },
      "outputs": [],
      "source": [
        "fig = px.scatter(data_frame=btc_df, x='date', y='Close', trendline='ols', title='BTC')\n",
        "fig.show()\n"
      ]
    },
    {
      "cell_type": "code",
      "execution_count": 271,
      "metadata": {
        "id": "R1fvk31HRKz4"
      },
      "outputs": [],
      "source": [
        "fig = px.scatter(data_frame=gas_df, x='Date', y='Close', trendline='ols', title='GAS(N.NG)')\n",
        "fig.show()\n"
      ]
    },
    {
      "cell_type": "code",
      "execution_count": 272,
      "metadata": {
        "id": "SzIjuBzgRKz5"
      },
      "outputs": [],
      "source": [
        "# на основе Close извлеките логарифмическую доходность BTC task1, ответ – мю и сигма\n",
        "# проверьте распределение получившихся данных BTC task2, ответ yes/no \n",
        "# возмонжо попробуйте их (BTC) нормализовать task3, ответ – mu и sigma\n",
        "# попробуйте предположить по подвыборке размером 634 дней среднее значение для доходностей (BTC) на уровне 90 95 99 – task 4, ответ – val + [a;b]\n",
        "# проверьте корреляцию доходностей BTC & AAPL – task5, ответ – yes/no\n",
        "# проверьте гипотезу о равенствен средних и дисперсии доходностей BTC & AAPL & GAS – task6, ответ – yes/no"
      ]
    },
    {
      "cell_type": "markdown",
      "source": [
        "1) На основе Close извлеките логарифмическую доходность BTC task1, ответ – мю и сигма"
      ],
      "metadata": {
        "id": "Untg11zCVsbN"
      }
    },
    {
      "cell_type": "code",
      "source": [
        "import numpy as np\n",
        "\n",
        "# Logarithmic Return Rate (логарифмическая доходность)\n",
        "btc_lrr = np.log(btc_df['Close']/btc_df['Close'].shift(1)).dropna() \n",
        "btc_lrr_mean = np.mean(btc_lrr) \n",
        "btc_lrr_std = np.std(btc_lrr)\n",
        "print(f'Мю - {btc_lrr_mean}, Сигма {btc_lrr_std}')"
      ],
      "metadata": {
        "colab": {
          "base_uri": "https://localhost:8080/"
        },
        "id": "p7v0BWLfVsxo",
        "outputId": "4b952e5f-71e8-4179-d0af-7c757bc832f3"
      },
      "execution_count": 273,
      "outputs": [
        {
          "output_type": "stream",
          "name": "stdout",
          "text": [
            "Мю - 0.000663301751786781, Сигма 0.038671397386446926\n"
          ]
        }
      ]
    },
    {
      "cell_type": "markdown",
      "source": [
        "2) Проверьте распределение получившихся данных BTC task2, ответ yes/no "
      ],
      "metadata": {
        "id": "-D7o6omgfbC2"
      }
    },
    {
      "cell_type": "code",
      "source": [
        "from scipy import stats\n",
        "\n",
        "\n",
        "data = btc_lrr\n",
        "\n",
        "# тест Шапиро-Уилка\n",
        "statistic, p_value = stats.shapiro(data)\n",
        "alpha = 0.05  \n",
        "if p_value > alpha:\n",
        "    print(\"Тест Шапиро-Уилка - нормальное распределение\")\n",
        "else:\n",
        "    print(\"Тест Шапиро-Уилка - не нормальное распределение\")\n",
        "\n",
        "# тест Андерсона-Дарлинга:\n",
        "result = stats.anderson(data)\n",
        "critical_values = result.critical_values\n",
        "significance_levels = result.significance_level\n",
        "if result.statistic < critical_values[2]:\n",
        "    print(\"Тест Андерсона-Дарлинга - нормальное распределение\")\n",
        "else:\n",
        "    print(\"Тест Андерсона-Дарлинга - не нормальное распределение\")\n",
        "  \n",
        "# тест Колмогорова-Смирнова:\n",
        "statistic, p_value = stats.kstest(data, 'norm')\n",
        "alpha = 0.05  \n",
        "if p_value > alpha:\n",
        "    print(\"Тест Колмогорова-Смирнова - нормальное распределение\")\n",
        "else:\n",
        "    print(\"Тест Колмогорова-Смирнова - не нормальное распределение\")"
      ],
      "metadata": {
        "colab": {
          "base_uri": "https://localhost:8080/"
        },
        "id": "KuNdPaGEfg_h",
        "outputId": "6c87f845-7bb8-481c-9523-4c3124e6f299"
      },
      "execution_count": 274,
      "outputs": [
        {
          "output_type": "stream",
          "name": "stdout",
          "text": [
            "Тест Шапиро-Уилка - не нормальное распределение\n",
            "Тест Андерсона-Дарлинга - не нормальное распределение\n",
            "Тест Колмогорова-Смирнова - не нормальное распределение\n"
          ]
        }
      ]
    },
    {
      "cell_type": "code",
      "source": [
        "print(\"Итого, по результатам трех тестов, ответ - no\")"
      ],
      "metadata": {
        "colab": {
          "base_uri": "https://localhost:8080/"
        },
        "id": "bykpoph5nve2",
        "outputId": "39c6412a-38c2-4362-83e2-bbb9c4c88a48"
      },
      "execution_count": 275,
      "outputs": [
        {
          "output_type": "stream",
          "name": "stdout",
          "text": [
            "Итого, по результатам трех тестов, ответ - no\n"
          ]
        }
      ]
    },
    {
      "cell_type": "markdown",
      "source": [
        "3) Возмонжо попробуйте их (BTC) нормализовать task3, ответ – mu и sigma"
      ],
      "metadata": {
        "id": "KhmJointoDFo"
      }
    },
    {
      "cell_type": "code",
      "source": [
        "# придется нормализовывать...\n",
        "btc_lrr_normalize = ((btc_lrr - btc_lrr_mean) / btc_lrr_std).dropna()\n",
        "btc_lrr_normalize_mean = np.mean(btc_lrr_normalize)\n",
        "btc_lrr_normalize_std = np.std(btc_lrr_normalize)\n",
        "print(f'Мю - {btc_lrr_normalize_mean}, Сигма {btc_lrr_normalize_std}')"
      ],
      "metadata": {
        "colab": {
          "base_uri": "https://localhost:8080/"
        },
        "id": "qOSKJH2IoIEW",
        "outputId": "19edec46-b912-49a6-9db3-ea2fea0d57d4"
      },
      "execution_count": 276,
      "outputs": [
        {
          "output_type": "stream",
          "name": "stdout",
          "text": [
            "Мю - 1.129638689602703e-17, Сигма 1.0\n"
          ]
        }
      ]
    },
    {
      "cell_type": "markdown",
      "source": [
        "4) Попробуйте предположить по подвыборке размером 634 дней среднее значение для доходностей (BTC) на уровне 90 95 99 – task 4, ответ – val + [a;b]"
      ],
      "metadata": {
        "id": "oGVO-qOTpU25"
      }
    },
    {
      "cell_type": "code",
      "source": [
        "btc_lrr_634 = btc_lrr.sample(634)\n",
        "btc_lrr_size = len(btc_lrr)\n",
        "btc_lrr_634_mean = np.mean(btc_lrr_634)\n",
        "btc_lrr_634_std = np.std(btc_lrr_634)\n",
        "\n",
        "# критические значения t-распределения\n",
        "t_values = stats.t.ppf([0.9, 0.95, 0.99], df=btc_lrr_size-1)\n",
        "# доверительные интервалы\n",
        "confidence_intervals = [(btc_lrr_634_mean - t_value * btc_lrr_634_std / np.sqrt(btc_lrr_size), \n",
        "                         btc_lrr_634_mean + t_value * btc_lrr_634_std / np.sqrt(btc_lrr_size)) for t_value in t_values]\n",
        "\n",
        "print(\"Среднее значение доходности (val) - \", btc_lrr_634_mean)\n",
        "print(\"Доверительный интервал [a;b] с уровнем значимости 90%: \", confidence_intervals[0])\n",
        "print(\"Доверительный интервал [a;b] с уровнем значимости 95%: \", confidence_intervals[1])\n",
        "print(\"Доверительный интервал [a;b] с уровнем значимости 99%: \", confidence_intervals[2])"
      ],
      "metadata": {
        "colab": {
          "base_uri": "https://localhost:8080/"
        },
        "id": "hTHVSsKxqOFi",
        "outputId": "ee93f832-de91-4c7a-c81b-1123a74fab57"
      },
      "execution_count": 277,
      "outputs": [
        {
          "output_type": "stream",
          "name": "stdout",
          "text": [
            "Среднее значение доходности (val) -  0.0008403451415741908\n",
            "Доверительный интервал [a;b] с уровнем значимости 90%:  (-0.0006312424522549423, 0.002311932735403324)\n",
            "Доверительный интервал [a;b] с уровнем значимости 95%:  (-0.0010488167551173547, 0.0027295070382657364)\n",
            "Доверительный интервал [a;b] с уровнем значимости 99%:  (-0.0018329723735048876, 0.0035136626566532694)\n"
          ]
        }
      ]
    },
    {
      "cell_type": "markdown",
      "source": [
        "5) Проверьте корреляцию доходностей BTC & AAPL – task5, ответ – yes/no"
      ],
      "metadata": {
        "id": "0_q1NO3cfhPe"
      }
    },
    {
      "cell_type": "code",
      "source": [
        "# предобрабатываем aapl и мержим с btc\n",
        "aapl_lrr = np.log(aapl_df['Close'] / aapl_df['Close'].shift(1))\n",
        "data = pd.concat([aapl_lrr.rename('aapl_lrr'), btc_lrr.rename('btc_lrr')], axis=1).dropna()\n",
        "# считаем корреляцию \n",
        "correlation = data['aapl_lrr'].corr(data['btc_lrr'])\n",
        "print(f'Корреляция - {correlation}')"
      ],
      "metadata": {
        "colab": {
          "base_uri": "https://localhost:8080/"
        },
        "id": "VghW9C_23o2z",
        "outputId": "59d3f3f6-f933-4e93-a436-78d248cfcbb6"
      },
      "execution_count": 278,
      "outputs": [
        {
          "output_type": "stream",
          "name": "stdout",
          "text": [
            "Корреляция - 0.021809532287096853\n"
          ]
        }
      ]
    },
    {
      "cell_type": "code",
      "source": [
        "# Значение корреляции находится в диапазоне от -1 до 1\n",
        "# Отрицательное значение указывает на обратную корреляцию, а положительное - на прямую\n",
        "# Значение близкое к 0 означает отсутствие корреляции\n",
        "print('В нашем случае корреляция отсутсвует, ответ - no')"
      ],
      "metadata": {
        "colab": {
          "base_uri": "https://localhost:8080/"
        },
        "id": "WzcsGuGC6vdq",
        "outputId": "8bf89ae9-d51c-4dc2-adc4-891fb6a56554"
      },
      "execution_count": 279,
      "outputs": [
        {
          "output_type": "stream",
          "name": "stdout",
          "text": [
            "В нашем случае корреляция отсутсвует, ответ - no\n"
          ]
        }
      ]
    },
    {
      "cell_type": "markdown",
      "source": [
        "6) Проверьте гипотезу о равенствен средних и дисперсии доходностей BTC & AAPL & GAS – task6, ответ – yes/no"
      ],
      "metadata": {
        "id": "q9HBs3jy7sPq"
      }
    },
    {
      "cell_type": "code",
      "source": [
        "# снова преобработка и мержинг\n",
        "gas_lrr = np.log(gas_df['Close'] / gas_df['Close'].shift(1))\n",
        "data = pd.concat([btc_lrr.rename('btc_lrr'), aapl_lrr.rename('aapl_lrr'), gas_lrr.rename('gas_lrr')], axis=1).dropna()\n",
        "\n",
        "# Проверка гипотезы о равенстве средних - ANOVA тест\n",
        "f_statistic, p_value = stats.f_oneway(data['btc_lrr'], data['aapl_lrr'], data['gas_lrr'])\n",
        "alpha = 0.05 \n",
        "if p_value < alpha:\n",
        "    print(\"Отвергаем гипотезу о равенстве средних (мю), ответ - no\")\n",
        "else: # почему мю и сигма в ответах - непонятно...\n",
        "    print(\"Не отвергаем гипотезу о равенстве средних (мю), ответ - yes\")\n",
        "\n",
        "# Проверка гипотезы о равенстве дисперсий - тест Бартлетта\n",
        "statistic, p_value = stats.bartlett(data['btc_lrr'], data['aapl_lrr'], data['gas_lrr'])\n",
        "alpha = 0.05  \n",
        "if p_value < alpha:\n",
        "    print(\"Отвергаем гипотезу о равенстве дисперсий (сигма), ответ - no\")\n",
        "else: # почему мю и сигма в ответах - непонятно...\n",
        "    print(\"Не твергаем гипотезу о равенстве дисперсий (сигма), ответ - yes\")"
      ],
      "metadata": {
        "colab": {
          "base_uri": "https://localhost:8080/"
        },
        "id": "nsKAB9Rz70ap",
        "outputId": "7940d494-e1b2-475e-b6ed-d1bdce6a1a8c"
      },
      "execution_count": 280,
      "outputs": [
        {
          "output_type": "stream",
          "name": "stdout",
          "text": [
            "Не отвергаем гипотезу о равенстве средних (мю), ответ - yes\n",
            "Отвергаем гипотезу о равенстве дисперсий (сигма), ответ - no\n"
          ]
        }
      ]
    },
    {
      "cell_type": "markdown",
      "source": [
        "Записываем ответы"
      ],
      "metadata": {
        "id": "V581lQOMMcLa"
      }
    },
    {
      "cell_type": "code",
      "execution_count": 281,
      "metadata": {
        "id": "8Hs61Nk_RKz5"
      },
      "outputs": [],
      "source": [
        "ANSWERS = {\n",
        "    'tasks' : {\n",
        "        'task1_mu' : {\n",
        "            \"answer\" : 0.000663301751786781\n",
        "        }, \n",
        "        'task1_sigma' : {\n",
        "            \"answer\" : 0.038671397386446926\n",
        "        }, \n",
        "        'task2_normal' : {\n",
        "            'answer' : 'no'\n",
        "        }, \n",
        "        'task3_mu' : {\n",
        "            \"answer\" : 1.129638689602703e-17\n",
        "        }, \n",
        "        'task3_sigma' : {\n",
        "            \"answer\" : 1.0\n",
        "        }, \n",
        "        'task4_90' : {\n",
        "            \"answer\" : 0.00029177015646652567\n",
        "        }, \n",
        "        'task4_90_int' : {\n",
        "            \"answer\" : [-0.001194272684038336, 0.0017778129969713875]\n",
        "        }, \n",
        "        'task4_95' : {\n",
        "            \"answer\" : 0.00029177015646652567\n",
        "        }, \n",
        "        'task4_95_int' : {\n",
        "            \"answer\" : [-0.0016159487743707115, 0.002199489087303763]\n",
        "        }, \n",
        "        'task4_99' : {\n",
        "            \"answer\" : 0.00029177015646652567\n",
        "        }, \n",
        "        'task4_99_int' : {\n",
        "            \"answer\" : [-0.0024078070690674784, 0.00299134738200053]\n",
        "        }, \n",
        "        'task5_corr' : {\n",
        "            \"answer\" : \"no\"\n",
        "        },\n",
        "        'task6_corr_mu' : {\n",
        "            \"answer\" : \"yes\"\n",
        "        },\n",
        "        'task6_corr_sigma' : {\n",
        "            \"answer\" : \"no\"\n",
        "        }\n",
        "    }\n",
        "}"
      ]
    },
    {
      "cell_type": "code",
      "execution_count": 282,
      "metadata": {
        "colab": {
          "base_uri": "https://localhost:8080/"
        },
        "id": "RLcoRrKrRKz5",
        "outputId": "d9a5b33f-a635-45f3-d399-733cfd9c18b6"
      },
      "outputs": [
        {
          "output_type": "stream",
          "name": "stdout",
          "text": [
            "tasks:\n",
            "  task1_mu:\n",
            "    answer: 0.000663301751786781\n",
            "  task1_sigma:\n",
            "    answer: 0.038671397386446926\n",
            "  task2_normal:\n",
            "    answer: 'no'\n",
            "  task3_mu:\n",
            "    answer: 1.129638689602703e-17\n",
            "  task3_sigma:\n",
            "    answer: 1.0\n",
            "  task4_90:\n",
            "    answer: 0.00029177015646652567\n",
            "  task4_90_int:\n",
            "    answer:\n",
            "    - -0.001194272684038336\n",
            "    - 0.0017778129969713875\n",
            "  task4_95:\n",
            "    answer: 0.00029177015646652567\n",
            "  task4_95_int:\n",
            "    answer:\n",
            "    - -0.0016159487743707115\n",
            "    - 0.002199489087303763\n",
            "  task4_99:\n",
            "    answer: 0.00029177015646652567\n",
            "  task4_99_int:\n",
            "    answer:\n",
            "    - -0.0024078070690674784\n",
            "    - 0.00299134738200053\n",
            "  task5_corr:\n",
            "    answer: 'no'\n",
            "  task6_corr_mu:\n",
            "    answer: 'yes'\n",
            "  task6_corr_sigma:\n",
            "    answer: 'no'\n",
            "\n"
          ]
        }
      ],
      "source": [
        "import yaml\n",
        "yaml_result = yaml.dump(ANSWERS)\n",
        "\n",
        "print(yaml_result)\n",
        "\n",
        "with open(f\"hw03.yaml\", \"w\") as f:\n",
        "    f.write(yaml_result)"
      ]
    }
  ],
  "metadata": {
    "kernelspec": {
      "display_name": "obb",
      "language": "python",
      "name": "python3"
    },
    "language_info": {
      "codemirror_mode": {
        "name": "ipython",
        "version": 3
      },
      "file_extension": ".py",
      "mimetype": "text/x-python",
      "name": "python",
      "nbconvert_exporter": "python",
      "pygments_lexer": "ipython3",
      "version": "3.9.13"
    },
    "orig_nbformat": 4,
    "colab": {
      "provenance": []
    }
  },
  "nbformat": 4,
  "nbformat_minor": 0
}