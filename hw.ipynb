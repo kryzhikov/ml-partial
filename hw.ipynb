{
 "cells": [
  {
   "cell_type": "code",
   "execution_count": 8,
   "metadata": {},
   "outputs": [],
   "source": [
    "import pandas as pd\n",
    "import plotly.express as px\n",
    "import plotly.io as pio\n",
    "\n",
    "pio.renderers.default = 'iframe'\n",
    "pio.templates.default = 'plotly'\n"
   ]
  },
  {
   "cell_type": "code",
   "execution_count": 9,
   "metadata": {},
   "outputs": [],
   "source": [
    "aapl_df = pd.read_csv('AAPL.csv')\n",
    "btc_df = pd.read_csv('BTC.csv')\n",
    "gas_df = pd.read_csv('GAS.csv')\n",
    "aapl_df['date'] = aapl_df['date'].apply(lambda x: pd.to_datetime(x))\n",
    "btc_df['date'] = btc_df['date'].apply(lambda x: pd.to_datetime(x))\n",
    "gas_df['Date'] = gas_df['Date'].apply(lambda x: pd.to_datetime(x))"
   ]
  },
  {
   "cell_type": "code",
   "execution_count": 10,
   "metadata": {},
   "outputs": [
    {
     "data": {
      "text/html": [
       "<div>\n",
       "<style scoped>\n",
       "    .dataframe tbody tr th:only-of-type {\n",
       "        vertical-align: middle;\n",
       "    }\n",
       "\n",
       "    .dataframe tbody tr th {\n",
       "        vertical-align: top;\n",
       "    }\n",
       "\n",
       "    .dataframe thead th {\n",
       "        text-align: right;\n",
       "    }\n",
       "</style>\n",
       "<table border=\"1\" class=\"dataframe\">\n",
       "  <thead>\n",
       "    <tr style=\"text-align: right;\">\n",
       "      <th></th>\n",
       "      <th>date</th>\n",
       "      <th>Open</th>\n",
       "      <th>High</th>\n",
       "      <th>Low</th>\n",
       "      <th>Close</th>\n",
       "      <th>Adj Close</th>\n",
       "      <th>Volume</th>\n",
       "      <th>Dividends</th>\n",
       "      <th>Stock Splits</th>\n",
       "    </tr>\n",
       "  </thead>\n",
       "  <tbody>\n",
       "    <tr>\n",
       "      <th>0</th>\n",
       "      <td>2019-09-23</td>\n",
       "      <td>53.383072</td>\n",
       "      <td>53.600066</td>\n",
       "      <td>53.066113</td>\n",
       "      <td>53.326996</td>\n",
       "      <td>53.326996</td>\n",
       "      <td>76662000</td>\n",
       "      <td>0.0</td>\n",
       "      <td>0.0</td>\n",
       "    </tr>\n",
       "    <tr>\n",
       "      <th>1</th>\n",
       "      <td>2019-09-24</td>\n",
       "      <td>53.890204</td>\n",
       "      <td>54.246174</td>\n",
       "      <td>52.953959</td>\n",
       "      <td>53.073425</td>\n",
       "      <td>53.073425</td>\n",
       "      <td>124763200</td>\n",
       "      <td>0.0</td>\n",
       "      <td>0.0</td>\n",
       "    </tr>\n",
       "    <tr>\n",
       "      <th>2</th>\n",
       "      <td>2019-09-25</td>\n",
       "      <td>53.285552</td>\n",
       "      <td>54.004802</td>\n",
       "      <td>52.941773</td>\n",
       "      <td>53.890209</td>\n",
       "      <td>53.890209</td>\n",
       "      <td>87613600</td>\n",
       "      <td>0.0</td>\n",
       "      <td>0.0</td>\n",
       "    </tr>\n",
       "    <tr>\n",
       "      <th>3</th>\n",
       "      <td>2019-09-26</td>\n",
       "      <td>53.639082</td>\n",
       "      <td>53.868268</td>\n",
       "      <td>53.353820</td>\n",
       "      <td>53.612263</td>\n",
       "      <td>53.612263</td>\n",
       "      <td>75334000</td>\n",
       "      <td>0.0</td>\n",
       "      <td>0.0</td>\n",
       "    </tr>\n",
       "    <tr>\n",
       "      <th>4</th>\n",
       "      <td>2019-09-27</td>\n",
       "      <td>53.770740</td>\n",
       "      <td>53.873145</td>\n",
       "      <td>52.975908</td>\n",
       "      <td>53.351383</td>\n",
       "      <td>53.351383</td>\n",
       "      <td>101408000</td>\n",
       "      <td>0.0</td>\n",
       "      <td>0.0</td>\n",
       "    </tr>\n",
       "    <tr>\n",
       "      <th>...</th>\n",
       "      <td>...</td>\n",
       "      <td>...</td>\n",
       "      <td>...</td>\n",
       "      <td>...</td>\n",
       "      <td>...</td>\n",
       "      <td>...</td>\n",
       "      <td>...</td>\n",
       "      <td>...</td>\n",
       "      <td>...</td>\n",
       "    </tr>\n",
       "    <tr>\n",
       "      <th>863</th>\n",
       "      <td>2023-02-27</td>\n",
       "      <td>147.710007</td>\n",
       "      <td>149.169998</td>\n",
       "      <td>147.449997</td>\n",
       "      <td>147.919998</td>\n",
       "      <td>147.919998</td>\n",
       "      <td>44998500</td>\n",
       "      <td>0.0</td>\n",
       "      <td>0.0</td>\n",
       "    </tr>\n",
       "    <tr>\n",
       "      <th>864</th>\n",
       "      <td>2023-02-28</td>\n",
       "      <td>147.050003</td>\n",
       "      <td>149.080002</td>\n",
       "      <td>146.830002</td>\n",
       "      <td>147.410004</td>\n",
       "      <td>147.410004</td>\n",
       "      <td>50547000</td>\n",
       "      <td>0.0</td>\n",
       "      <td>0.0</td>\n",
       "    </tr>\n",
       "    <tr>\n",
       "      <th>865</th>\n",
       "      <td>2023-03-01</td>\n",
       "      <td>146.830002</td>\n",
       "      <td>147.229996</td>\n",
       "      <td>145.009995</td>\n",
       "      <td>145.309998</td>\n",
       "      <td>145.309998</td>\n",
       "      <td>55479000</td>\n",
       "      <td>0.0</td>\n",
       "      <td>0.0</td>\n",
       "    </tr>\n",
       "    <tr>\n",
       "      <th>866</th>\n",
       "      <td>2023-03-02</td>\n",
       "      <td>144.380005</td>\n",
       "      <td>146.710007</td>\n",
       "      <td>143.899994</td>\n",
       "      <td>145.910004</td>\n",
       "      <td>145.910004</td>\n",
       "      <td>52279800</td>\n",
       "      <td>0.0</td>\n",
       "      <td>0.0</td>\n",
       "    </tr>\n",
       "    <tr>\n",
       "      <th>867</th>\n",
       "      <td>2023-03-03</td>\n",
       "      <td>148.039993</td>\n",
       "      <td>151.110001</td>\n",
       "      <td>147.330002</td>\n",
       "      <td>151.029999</td>\n",
       "      <td>151.029999</td>\n",
       "      <td>70668500</td>\n",
       "      <td>0.0</td>\n",
       "      <td>0.0</td>\n",
       "    </tr>\n",
       "  </tbody>\n",
       "</table>\n",
       "<p>868 rows × 9 columns</p>\n",
       "</div>"
      ],
      "text/plain": [
       "          date        Open        High         Low       Close   Adj Close  \\\n",
       "0   2019-09-23   53.383072   53.600066   53.066113   53.326996   53.326996   \n",
       "1   2019-09-24   53.890204   54.246174   52.953959   53.073425   53.073425   \n",
       "2   2019-09-25   53.285552   54.004802   52.941773   53.890209   53.890209   \n",
       "3   2019-09-26   53.639082   53.868268   53.353820   53.612263   53.612263   \n",
       "4   2019-09-27   53.770740   53.873145   52.975908   53.351383   53.351383   \n",
       "..         ...         ...         ...         ...         ...         ...   \n",
       "863 2023-02-27  147.710007  149.169998  147.449997  147.919998  147.919998   \n",
       "864 2023-02-28  147.050003  149.080002  146.830002  147.410004  147.410004   \n",
       "865 2023-03-01  146.830002  147.229996  145.009995  145.309998  145.309998   \n",
       "866 2023-03-02  144.380005  146.710007  143.899994  145.910004  145.910004   \n",
       "867 2023-03-03  148.039993  151.110001  147.330002  151.029999  151.029999   \n",
       "\n",
       "        Volume  Dividends  Stock Splits  \n",
       "0     76662000        0.0           0.0  \n",
       "1    124763200        0.0           0.0  \n",
       "2     87613600        0.0           0.0  \n",
       "3     75334000        0.0           0.0  \n",
       "4    101408000        0.0           0.0  \n",
       "..         ...        ...           ...  \n",
       "863   44998500        0.0           0.0  \n",
       "864   50547000        0.0           0.0  \n",
       "865   55479000        0.0           0.0  \n",
       "866   52279800        0.0           0.0  \n",
       "867   70668500        0.0           0.0  \n",
       "\n",
       "[868 rows x 9 columns]"
      ]
     },
     "execution_count": 10,
     "metadata": {},
     "output_type": "execute_result"
    }
   ],
   "source": [
    "aapl_df"
   ]
  },
  {
   "cell_type": "code",
   "execution_count": 14,
   "metadata": {},
   "outputs": [
    {
     "data": {
      "text/html": [
       "<iframe\n",
       "    scrolling=\"no\"\n",
       "    width=\"100%\"\n",
       "    height=\"545px\"\n",
       "    src=\"iframe_figures/figure_17.html\"\n",
       "    frameborder=\"0\"\n",
       "    allowfullscreen\n",
       "></iframe>\n"
      ]
     },
     "metadata": {},
     "output_type": "display_data"
    }
   ],
   "source": [
    "fig = px.scatter(data_frame=aapl_df, x='date', y='Adj Close', trendline='ols', title='AAPL')\n",
    "fig.show()\n"
   ]
  },
  {
   "cell_type": "code",
   "execution_count": 15,
   "metadata": {},
   "outputs": [
    {
     "data": {
      "text/html": [
       "<iframe\n",
       "    scrolling=\"no\"\n",
       "    width=\"100%\"\n",
       "    height=\"545px\"\n",
       "    src=\"iframe_figures/figure_17.html\"\n",
       "    frameborder=\"0\"\n",
       "    allowfullscreen\n",
       "></iframe>\n"
      ]
     },
     "metadata": {},
     "output_type": "display_data"
    }
   ],
   "source": [
    "fig = px.scatter(data_frame=btc_df, x='date', y='Close', trendline='ols', title='BTC')\n",
    "fig.show()\n"
   ]
  },
  {
   "cell_type": "code",
   "execution_count": 16,
   "metadata": {},
   "outputs": [
    {
     "data": {
      "text/html": [
       "<iframe\n",
       "    scrolling=\"no\"\n",
       "    width=\"100%\"\n",
       "    height=\"545px\"\n",
       "    src=\"iframe_figures/figure_17.html\"\n",
       "    frameborder=\"0\"\n",
       "    allowfullscreen\n",
       "></iframe>\n"
      ]
     },
     "metadata": {},
     "output_type": "display_data"
    }
   ],
   "source": [
    "fig = px.scatter(data_frame=gas_df, x='Date', y='Close', trendline='ols', title='GAS(N.NG)')\n",
    "fig.show()\n"
   ]
  },
  {
   "cell_type": "code",
   "execution_count": 18,
   "metadata": {},
   "outputs": [],
   "source": [
    "import numpy as np"
   ]
  },
  {
   "cell_type": "code",
   "execution_count": 20,
   "metadata": {},
   "outputs": [
    {
     "data": {
      "text/html": [
       "<div>\n",
       "<style scoped>\n",
       "    .dataframe tbody tr th:only-of-type {\n",
       "        vertical-align: middle;\n",
       "    }\n",
       "\n",
       "    .dataframe tbody tr th {\n",
       "        vertical-align: top;\n",
       "    }\n",
       "\n",
       "    .dataframe thead th {\n",
       "        text-align: right;\n",
       "    }\n",
       "</style>\n",
       "<table border=\"1\" class=\"dataframe\">\n",
       "  <thead>\n",
       "    <tr style=\"text-align: right;\">\n",
       "      <th></th>\n",
       "      <th>date</th>\n",
       "      <th>Open</th>\n",
       "      <th>High</th>\n",
       "      <th>Low</th>\n",
       "      <th>Close</th>\n",
       "      <th>Volume</th>\n",
       "    </tr>\n",
       "  </thead>\n",
       "  <tbody>\n",
       "    <tr>\n",
       "      <th>0</th>\n",
       "      <td>2019-09-23</td>\n",
       "      <td>10028.05</td>\n",
       "      <td>10049.99</td>\n",
       "      <td>9615.77</td>\n",
       "      <td>9702.25</td>\n",
       "      <td>31937.232356</td>\n",
       "    </tr>\n",
       "    <tr>\n",
       "      <th>1</th>\n",
       "      <td>2019-09-24</td>\n",
       "      <td>9702.20</td>\n",
       "      <td>9794.99</td>\n",
       "      <td>7800.00</td>\n",
       "      <td>8493.14</td>\n",
       "      <td>94007.345203</td>\n",
       "    </tr>\n",
       "    <tr>\n",
       "      <th>2</th>\n",
       "      <td>2019-09-25</td>\n",
       "      <td>8497.55</td>\n",
       "      <td>8730.00</td>\n",
       "      <td>8215.64</td>\n",
       "      <td>8430.05</td>\n",
       "      <td>60783.892258</td>\n",
       "    </tr>\n",
       "    <tr>\n",
       "      <th>3</th>\n",
       "      <td>2019-09-26</td>\n",
       "      <td>8430.05</td>\n",
       "      <td>8465.99</td>\n",
       "      <td>7750.00</td>\n",
       "      <td>8063.73</td>\n",
       "      <td>67930.853749</td>\n",
       "    </tr>\n",
       "    <tr>\n",
       "      <th>4</th>\n",
       "      <td>2019-09-27</td>\n",
       "      <td>8063.49</td>\n",
       "      <td>8265.00</td>\n",
       "      <td>7852.15</td>\n",
       "      <td>8177.91</td>\n",
       "      <td>43882.924625</td>\n",
       "    </tr>\n",
       "  </tbody>\n",
       "</table>\n",
       "</div>"
      ],
      "text/plain": [
       "        date      Open      High      Low    Close        Volume\n",
       "0 2019-09-23  10028.05  10049.99  9615.77  9702.25  31937.232356\n",
       "1 2019-09-24   9702.20   9794.99  7800.00  8493.14  94007.345203\n",
       "2 2019-09-25   8497.55   8730.00  8215.64  8430.05  60783.892258\n",
       "3 2019-09-26   8430.05   8465.99  7750.00  8063.73  67930.853749\n",
       "4 2019-09-27   8063.49   8265.00  7852.15  8177.91  43882.924625"
      ]
     },
     "execution_count": 20,
     "metadata": {},
     "output_type": "execute_result"
    }
   ],
   "source": [
    "btc_df.head(5)"
   ]
  },
  {
   "cell_type": "code",
   "execution_count": 41,
   "metadata": {},
   "outputs": [
    {
     "data": {
      "text/plain": [
       "(0.0006404770261511339, 0.03866681249944105)"
      ]
     },
     "execution_count": 41,
     "metadata": {},
     "output_type": "execute_result"
    }
   ],
   "source": [
    "btc_log_return = np.log(btc_df['Close']/btc_df['Open'])\n",
    "task1_mu = np.mean(btc_log_return)\n",
    "task1_sigma = np.std(btc_log_return)\n",
    "task1_mu, task1_sigma"
   ]
  },
  {
   "cell_type": "code",
   "execution_count": 29,
   "metadata": {
    "scrolled": false
   },
   "outputs": [
    {
     "data": {
      "text/html": [
       "<iframe\n",
       "    scrolling=\"no\"\n",
       "    width=\"100%\"\n",
       "    height=\"545px\"\n",
       "    src=\"iframe_figures/figure_17.html\"\n",
       "    frameborder=\"0\"\n",
       "    allowfullscreen\n",
       "></iframe>\n"
      ]
     },
     "metadata": {},
     "output_type": "display_data"
    }
   ],
   "source": [
    "fig = px.histogram(data_frame = btc_log_return)\n",
    "fig.show()"
   ]
  },
  {
   "cell_type": "code",
   "execution_count": 39,
   "metadata": {},
   "outputs": [
    {
     "data": {
      "text/html": [
       "<iframe\n",
       "    scrolling=\"no\"\n",
       "    width=\"100%\"\n",
       "    height=\"545px\"\n",
       "    src=\"iframe_figures/figure_17.html\"\n",
       "    frameborder=\"0\"\n",
       "    allowfullscreen\n",
       "></iframe>\n"
      ]
     },
     "metadata": {},
     "output_type": "display_data"
    }
   ],
   "source": [
    "from sklearn import preprocessing\n",
    "btc_log_return_normalized = preprocessing.normalize([btc_log_return])\n",
    "fig = px.histogram(data_frame = btc_log_return_normalized[0])\n",
    "fig.show()"
   ]
  },
  {
   "cell_type": "code",
   "execution_count": 40,
   "metadata": {},
   "outputs": [
    {
     "data": {
      "text/plain": [
       "(0.00046675905197518877, 0.028179129005764872)"
      ]
     },
     "execution_count": 40,
     "metadata": {},
     "output_type": "execute_result"
    }
   ],
   "source": [
    "task3_mu = np.mean(btc_log_return_normalized)\n",
    "task3_sigma = np.std(btc_log_return_normalized)\n",
    "task3_mu, task3_sigma"
   ]
  },
  {
   "cell_type": "code",
   "execution_count": 48,
   "metadata": {},
   "outputs": [],
   "source": [
    "sample = np.random.choice(btc_log_return_normalized.reshape(-1), size=634)\n",
    "task4_99 = task4_95 = task4_90 = np.mean(sample)\n",
    "s = sample.std()"
   ]
  },
  {
   "cell_type": "code",
   "execution_count": 93,
   "metadata": {},
   "outputs": [
    {
     "data": {
      "text/plain": [
       "-0.0006127643030098724"
      ]
     },
     "execution_count": 93,
     "metadata": {},
     "output_type": "execute_result"
    }
   ],
   "source": [
    "task4_90"
   ]
  },
  {
   "cell_type": "code",
   "execution_count": 94,
   "metadata": {},
   "outputs": [
    {
     "data": {
      "text/plain": [
       "([-0.0025131517468730256, 0.0012876231408532808],\n",
       " [-0.002870194236326103, 0.0016446656303063583],\n",
       " [-0.0035842792152322575, 0.0023587506092125126])"
      ]
     },
     "execution_count": 94,
     "metadata": {},
     "output_type": "execute_result"
    }
   ],
   "source": [
    "task4_90_int = [task4_90-1.65*s/np.sqrt(len(sample)), task4_90+1.65*s/np.sqrt(len(sample))]\n",
    "task4_95_int = [task4_95-1.96*s/np.sqrt(len(sample)), task4_95+1.96*s/np.sqrt(len(sample))]\n",
    "task4_99_int = [task4_99-2.58*s/np.sqrt(len(sample)), task4_99+2.58*s/np.sqrt(len(sample))]\n",
    "task4_90_int, task4_95_int, task4_99_int"
   ]
  },
  {
   "cell_type": "code",
   "execution_count": 78,
   "metadata": {},
   "outputs": [],
   "source": [
    "btc_df1 = pd.concat([btc_df['date'], pd.Series(btc_log_return_normalized.reshape(-1), name='return')],axis=1)\n",
    "aapl_log_return = np.log(aapl_df['Close']/aapl_df['Open'])\n",
    "aapl_log_return_normalized = preprocessing.normalize([aapl_log_return])\n",
    "aapl_df1 = pd.concat([aapl_df['date'], pd.Series(aapl_log_return_normalized.reshape(-1), name='return')],axis=1)\n",
    "btc_aapl_df = pd.merge(btc_df1, aapl_df1, on='date')"
   ]
  },
  {
   "cell_type": "code",
   "execution_count": 82,
   "metadata": {},
   "outputs": [
    {
     "data": {
      "text/plain": [
       "0.23140266188288458"
      ]
     },
     "execution_count": 82,
     "metadata": {},
     "output_type": "execute_result"
    }
   ],
   "source": [
    "btc_aapl_df['return_x'].corr(btc_aapl_df['return_y'])"
   ]
  },
  {
   "cell_type": "code",
   "execution_count": 84,
   "metadata": {},
   "outputs": [],
   "source": [
    "gas_log_return = np.log(gas_df['Close']/gas_df['Open'])\n",
    "gas_log_return_normalized = preprocessing.normalize([gas_log_return])\n",
    "gas_df1 = pd.concat([gas_df['Date'], pd.Series(gas_log_return_normalized.reshape(-1), name='return')],axis=1)"
   ]
  },
  {
   "cell_type": "code",
   "execution_count": 86,
   "metadata": {},
   "outputs": [
    {
     "data": {
      "text/plain": [
       "(0.00046675905197518877, 0.0022542448456375442, -0.0013203921757442105)"
      ]
     },
     "execution_count": 86,
     "metadata": {},
     "output_type": "execute_result"
    }
   ],
   "source": [
    "btc_log_return_normalized.mean(), aapl_log_return_normalized.mean(), gas_log_return_normalized.mean()"
   ]
  },
  {
   "cell_type": "code",
   "execution_count": 87,
   "metadata": {},
   "outputs": [
    {
     "data": {
      "text/plain": [
       "(0.028179129005764872, 0.033867272002551525, 0.03385797085207262)"
      ]
     },
     "execution_count": 87,
     "metadata": {},
     "output_type": "execute_result"
    }
   ],
   "source": [
    "btc_log_return_normalized.std(), aapl_log_return_normalized.std(), gas_log_return_normalized.std()"
   ]
  },
  {
   "cell_type": "code",
   "execution_count": null,
   "metadata": {},
   "outputs": [],
   "source": [
    "# на основе Close извлеките логарифмическую доходность BTC task1, ответ – мю и сигма\n",
    "# проверьте распределение получившихся данных BTC task2, ответ yes/no \n",
    "# возмонжо попробуйте их (BTC) нормализовать task3, ответ – mu и sigma\n",
    "# попробуйте предположить по подвыборке размером 634 дней среднее значение для доходностей (BTC) на уровне 90 95 99 – task 4, ответ – val + [a;b]\n",
    "# проверьте корреляцию доходностей BTC & AAPL – task5, ответ – yes/no\n",
    "# проверьте гипотезу о равенствен средних и дисперсии доходностей BTC & AAPL & GAS – task6, ответ – yes/no"
   ]
  },
  {
   "cell_type": "code",
   "execution_count": 95,
   "metadata": {},
   "outputs": [],
   "source": [
    "ANSWERS = {\n",
    "    'tasks' : {\n",
    "        'task1_mu' : {\n",
    "            \"answer\" : task1_mu\n",
    "        }, \n",
    "        'task1_sigma' : {\n",
    "            \"answer\" : task1_sigma\n",
    "        }, \n",
    "        'task2_normal' : {\n",
    "            'answer' : 'no'\n",
    "        }, \n",
    "        'task3_mu' : {\n",
    "            \"answer\" : 0.00046675905197518877\n",
    "        }, \n",
    "        'task3_sigma' : {\n",
    "            \"answer\" : 0.028179129005764872\n",
    "        }, \n",
    "        'task4_90' : {\n",
    "            \"answer\" : -0.0006127643030098724\n",
    "        }, \n",
    "        'task4_90_int' : {\n",
    "            \"answer\" : [-0.0025131517468730256, 0.0012876231408532808]\n",
    "        }, \n",
    "        'task4_95' : {\n",
    "            \"answer\" : -0.0006127643030098724\n",
    "        }, \n",
    "        'task4_95_int' : {\n",
    "            \"answer\" : [-0.002870194236326103, 0.0016446656303063583]\n",
    "        }, \n",
    "        'task4_99' : {\n",
    "            \"answer\" : -0.0006127643030098724\n",
    "        }, \n",
    "        'task4_99_int' : {\n",
    "            \"answer\" : [-0.0035842792152322575, 0.0023587506092125126]\n",
    "        }, \n",
    "        'task5_corr' : {\n",
    "            \"answer\" : \"no\"\n",
    "        },\n",
    "        'task6_corr_mu' : {\n",
    "            \"answer\" : \"no\"\n",
    "        },\n",
    "        'task6_corr_sigma' : {\n",
    "            \"answer\" : \"no\"\n",
    "        }\n",
    "    }\n",
    "}\n"
   ]
  },
  {
   "cell_type": "code",
   "execution_count": 96,
   "metadata": {},
   "outputs": [
    {
     "name": "stdout",
     "output_type": "stream",
     "text": [
      "tasks:\n",
      "  task1_mu:\n",
      "    answer: 0.0006404770261511339\n",
      "  task1_sigma:\n",
      "    answer: 0.03866681249944105\n",
      "  task2_normal:\n",
      "    answer: 'no'\n",
      "  task3_mu:\n",
      "    answer: 0.00046675905197518877\n",
      "  task3_sigma:\n",
      "    answer: 0.028179129005764872\n",
      "  task4_90:\n",
      "    answer: -0.0006127643030098724\n",
      "  task4_90_int:\n",
      "    answer:\n",
      "    - -0.0025131517468730256\n",
      "    - 0.0012876231408532808\n",
      "  task4_95:\n",
      "    answer: -0.0006127643030098724\n",
      "  task4_95_int:\n",
      "    answer:\n",
      "    - -0.002870194236326103\n",
      "    - 0.0016446656303063583\n",
      "  task4_99:\n",
      "    answer: -0.0006127643030098724\n",
      "  task4_99_int:\n",
      "    answer:\n",
      "    - -0.0035842792152322575\n",
      "    - 0.0023587506092125126\n",
      "  task5_corr:\n",
      "    answer: 'no'\n",
      "  task6_corr_mu:\n",
      "    answer: 'no'\n",
      "  task6_corr_sigma:\n",
      "    answer: 'no'\n",
      "\n"
     ]
    }
   ],
   "source": [
    "import yaml\n",
    "yaml_result = yaml.dump(ANSWERS)\n",
    "\n",
    "print(yaml_result)\n",
    "\n",
    "with open(f\"hw03.yaml\", \"w\") as f:\n",
    "    f.write(yaml_result)"
   ]
  },
  {
   "cell_type": "code",
   "execution_count": null,
   "metadata": {},
   "outputs": [],
   "source": []
  }
 ],
 "metadata": {
  "kernelspec": {
   "display_name": "Python 3 (ipykernel)",
   "language": "python",
   "name": "python3"
  },
  "language_info": {
   "codemirror_mode": {
    "name": "ipython",
    "version": 3
   },
   "file_extension": ".py",
   "mimetype": "text/x-python",
   "name": "python",
   "nbconvert_exporter": "python",
   "pygments_lexer": "ipython3",
   "version": "3.10.9"
  }
 },
 "nbformat": 4,
 "nbformat_minor": 2
}
