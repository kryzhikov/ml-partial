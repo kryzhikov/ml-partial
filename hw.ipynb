{
  "cells": [
    {
      "cell_type": "code",
      "execution_count": 2,
      "metadata": {
        "id": "5e5EcdPVsRk_"
      },
      "outputs": [],
      "source": [
        "import pandas as pd\n",
        "import plotly.express as px\n",
        "import plotly.io as pio\n",
        "import scipy as sp\n",
        "from scipy import stats\n",
        "import numpy as np\n",
        "\n",
        "\n",
        "pio.renderers.default = 'iframe'\n",
        "pio.templates.default = 'plotly'"
      ]
    },
    {
      "cell_type": "code",
      "execution_count": 3,
      "metadata": {
        "id": "Sf-F6oXas-ts"
      },
      "outputs": [],
      "source": [
        "aapl_df = pd.read_csv('AAPL.csv')\n",
        "btc_df = pd.read_csv('BTC.csv')\n",
        "gas_df = pd.read_csv('GAS.csv')\n",
        "aapl_df['date'] = aapl_df['date'].apply(lambda x: pd.to_datetime(x))\n",
        "btc_df['date'] = btc_df['date'].apply(lambda x: pd.to_datetime(x))\n",
        "gas_df['Date'] = gas_df['Date'].apply(lambda x: pd.to_datetime(x))"
      ]
    },
    {
      "cell_type": "code",
      "execution_count": 4,
      "metadata": {
        "colab": {
          "base_uri": "https://localhost:8080/",
          "height": 634
        },
        "id": "qZAvAmCJtAZc",
        "outputId": "96f435f1-adb7-4e40-ec5f-dd87426a5f9e"
      },
      "outputs": [
        {
          "data": {
            "text/html": [
              "\n",
              "  <div id=\"df-028899ff-faa8-4922-b74d-483ffafbd5c4\" class=\"colab-df-container\">\n",
              "    <div>\n",
              "<style scoped>\n",
              "    .dataframe tbody tr th:only-of-type {\n",
              "        vertical-align: middle;\n",
              "    }\n",
              "\n",
              "    .dataframe tbody tr th {\n",
              "        vertical-align: top;\n",
              "    }\n",
              "\n",
              "    .dataframe thead th {\n",
              "        text-align: right;\n",
              "    }\n",
              "</style>\n",
              "<table border=\"1\" class=\"dataframe\">\n",
              "  <thead>\n",
              "    <tr style=\"text-align: right;\">\n",
              "      <th></th>\n",
              "      <th>date</th>\n",
              "      <th>Open</th>\n",
              "      <th>High</th>\n",
              "      <th>Low</th>\n",
              "      <th>Close</th>\n",
              "      <th>Adj Close</th>\n",
              "      <th>Volume</th>\n",
              "      <th>Dividends</th>\n",
              "      <th>Stock Splits</th>\n",
              "    </tr>\n",
              "  </thead>\n",
              "  <tbody>\n",
              "    <tr>\n",
              "      <th>0</th>\n",
              "      <td>2019-09-23</td>\n",
              "      <td>53.383072</td>\n",
              "      <td>53.600066</td>\n",
              "      <td>53.066113</td>\n",
              "      <td>53.326996</td>\n",
              "      <td>53.326996</td>\n",
              "      <td>76662000</td>\n",
              "      <td>0.0</td>\n",
              "      <td>0.0</td>\n",
              "    </tr>\n",
              "    <tr>\n",
              "      <th>1</th>\n",
              "      <td>2019-09-24</td>\n",
              "      <td>53.890204</td>\n",
              "      <td>54.246174</td>\n",
              "      <td>52.953959</td>\n",
              "      <td>53.073425</td>\n",
              "      <td>53.073425</td>\n",
              "      <td>124763200</td>\n",
              "      <td>0.0</td>\n",
              "      <td>0.0</td>\n",
              "    </tr>\n",
              "    <tr>\n",
              "      <th>2</th>\n",
              "      <td>2019-09-25</td>\n",
              "      <td>53.285552</td>\n",
              "      <td>54.004802</td>\n",
              "      <td>52.941773</td>\n",
              "      <td>53.890209</td>\n",
              "      <td>53.890209</td>\n",
              "      <td>87613600</td>\n",
              "      <td>0.0</td>\n",
              "      <td>0.0</td>\n",
              "    </tr>\n",
              "    <tr>\n",
              "      <th>3</th>\n",
              "      <td>2019-09-26</td>\n",
              "      <td>53.639082</td>\n",
              "      <td>53.868268</td>\n",
              "      <td>53.353820</td>\n",
              "      <td>53.612263</td>\n",
              "      <td>53.612263</td>\n",
              "      <td>75334000</td>\n",
              "      <td>0.0</td>\n",
              "      <td>0.0</td>\n",
              "    </tr>\n",
              "    <tr>\n",
              "      <th>4</th>\n",
              "      <td>2019-09-27</td>\n",
              "      <td>53.770740</td>\n",
              "      <td>53.873145</td>\n",
              "      <td>52.975908</td>\n",
              "      <td>53.351383</td>\n",
              "      <td>53.351383</td>\n",
              "      <td>101408000</td>\n",
              "      <td>0.0</td>\n",
              "      <td>0.0</td>\n",
              "    </tr>\n",
              "    <tr>\n",
              "      <th>...</th>\n",
              "      <td>...</td>\n",
              "      <td>...</td>\n",
              "      <td>...</td>\n",
              "      <td>...</td>\n",
              "      <td>...</td>\n",
              "      <td>...</td>\n",
              "      <td>...</td>\n",
              "      <td>...</td>\n",
              "      <td>...</td>\n",
              "    </tr>\n",
              "    <tr>\n",
              "      <th>863</th>\n",
              "      <td>2023-02-27</td>\n",
              "      <td>147.710007</td>\n",
              "      <td>149.169998</td>\n",
              "      <td>147.449997</td>\n",
              "      <td>147.919998</td>\n",
              "      <td>147.919998</td>\n",
              "      <td>44998500</td>\n",
              "      <td>0.0</td>\n",
              "      <td>0.0</td>\n",
              "    </tr>\n",
              "    <tr>\n",
              "      <th>864</th>\n",
              "      <td>2023-02-28</td>\n",
              "      <td>147.050003</td>\n",
              "      <td>149.080002</td>\n",
              "      <td>146.830002</td>\n",
              "      <td>147.410004</td>\n",
              "      <td>147.410004</td>\n",
              "      <td>50547000</td>\n",
              "      <td>0.0</td>\n",
              "      <td>0.0</td>\n",
              "    </tr>\n",
              "    <tr>\n",
              "      <th>865</th>\n",
              "      <td>2023-03-01</td>\n",
              "      <td>146.830002</td>\n",
              "      <td>147.229996</td>\n",
              "      <td>145.009995</td>\n",
              "      <td>145.309998</td>\n",
              "      <td>145.309998</td>\n",
              "      <td>55479000</td>\n",
              "      <td>0.0</td>\n",
              "      <td>0.0</td>\n",
              "    </tr>\n",
              "    <tr>\n",
              "      <th>866</th>\n",
              "      <td>2023-03-02</td>\n",
              "      <td>144.380005</td>\n",
              "      <td>146.710007</td>\n",
              "      <td>143.899994</td>\n",
              "      <td>145.910004</td>\n",
              "      <td>145.910004</td>\n",
              "      <td>52279800</td>\n",
              "      <td>0.0</td>\n",
              "      <td>0.0</td>\n",
              "    </tr>\n",
              "    <tr>\n",
              "      <th>867</th>\n",
              "      <td>2023-03-03</td>\n",
              "      <td>148.039993</td>\n",
              "      <td>151.110001</td>\n",
              "      <td>147.330002</td>\n",
              "      <td>151.029999</td>\n",
              "      <td>151.029999</td>\n",
              "      <td>70668500</td>\n",
              "      <td>0.0</td>\n",
              "      <td>0.0</td>\n",
              "    </tr>\n",
              "  </tbody>\n",
              "</table>\n",
              "<p>868 rows × 9 columns</p>\n",
              "</div>\n",
              "    <div class=\"colab-df-buttons\">\n",
              "\n",
              "  <div class=\"colab-df-container\">\n",
              "    <button class=\"colab-df-convert\" onclick=\"convertToInteractive('df-028899ff-faa8-4922-b74d-483ffafbd5c4')\"\n",
              "            title=\"Convert this dataframe to an interactive table.\"\n",
              "            style=\"display:none;\">\n",
              "\n",
              "  <svg xmlns=\"http://www.w3.org/2000/svg\" height=\"24px\" viewBox=\"0 -960 960 960\">\n",
              "    <path d=\"M120-120v-720h720v720H120Zm60-500h600v-160H180v160Zm220 220h160v-160H400v160Zm0 220h160v-160H400v160ZM180-400h160v-160H180v160Zm440 0h160v-160H620v160ZM180-180h160v-160H180v160Zm440 0h160v-160H620v160Z\"/>\n",
              "  </svg>\n",
              "    </button>\n",
              "\n",
              "  <style>\n",
              "    .colab-df-container {\n",
              "      display:flex;\n",
              "      gap: 12px;\n",
              "    }\n",
              "\n",
              "    .colab-df-convert {\n",
              "      background-color: #E8F0FE;\n",
              "      border: none;\n",
              "      border-radius: 50%;\n",
              "      cursor: pointer;\n",
              "      display: none;\n",
              "      fill: #1967D2;\n",
              "      height: 32px;\n",
              "      padding: 0 0 0 0;\n",
              "      width: 32px;\n",
              "    }\n",
              "\n",
              "    .colab-df-convert:hover {\n",
              "      background-color: #E2EBFA;\n",
              "      box-shadow: 0px 1px 2px rgba(60, 64, 67, 0.3), 0px 1px 3px 1px rgba(60, 64, 67, 0.15);\n",
              "      fill: #174EA6;\n",
              "    }\n",
              "\n",
              "    .colab-df-buttons div {\n",
              "      margin-bottom: 4px;\n",
              "    }\n",
              "\n",
              "    [theme=dark] .colab-df-convert {\n",
              "      background-color: #3B4455;\n",
              "      fill: #D2E3FC;\n",
              "    }\n",
              "\n",
              "    [theme=dark] .colab-df-convert:hover {\n",
              "      background-color: #434B5C;\n",
              "      box-shadow: 0px 1px 3px 1px rgba(0, 0, 0, 0.15);\n",
              "      filter: drop-shadow(0px 1px 2px rgba(0, 0, 0, 0.3));\n",
              "      fill: #FFFFFF;\n",
              "    }\n",
              "  </style>\n",
              "\n",
              "    <script>\n",
              "      const buttonEl =\n",
              "        document.querySelector('#df-028899ff-faa8-4922-b74d-483ffafbd5c4 button.colab-df-convert');\n",
              "      buttonEl.style.display =\n",
              "        google.colab.kernel.accessAllowed ? 'block' : 'none';\n",
              "\n",
              "      async function convertToInteractive(key) {\n",
              "        const element = document.querySelector('#df-028899ff-faa8-4922-b74d-483ffafbd5c4');\n",
              "        const dataTable =\n",
              "          await google.colab.kernel.invokeFunction('convertToInteractive',\n",
              "                                                    [key], {});\n",
              "        if (!dataTable) return;\n",
              "\n",
              "        const docLinkHtml = 'Like what you see? Visit the ' +\n",
              "          '<a target=\"_blank\" href=https://colab.research.google.com/notebooks/data_table.ipynb>data table notebook</a>'\n",
              "          + ' to learn more about interactive tables.';\n",
              "        element.innerHTML = '';\n",
              "        dataTable['output_type'] = 'display_data';\n",
              "        await google.colab.output.renderOutput(dataTable, element);\n",
              "        const docLink = document.createElement('div');\n",
              "        docLink.innerHTML = docLinkHtml;\n",
              "        element.appendChild(docLink);\n",
              "      }\n",
              "    </script>\n",
              "  </div>\n",
              "\n",
              "\n",
              "<div id=\"df-5a29ed84-83c0-4c1f-9b0b-9060bb857b6a\">\n",
              "  <button class=\"colab-df-quickchart\" onclick=\"quickchart('df-5a29ed84-83c0-4c1f-9b0b-9060bb857b6a')\"\n",
              "            title=\"Suggest charts.\"\n",
              "            style=\"display:none;\">\n",
              "\n",
              "<svg xmlns=\"http://www.w3.org/2000/svg\" height=\"24px\"viewBox=\"0 0 24 24\"\n",
              "     width=\"24px\">\n",
              "    <g>\n",
              "        <path d=\"M19 3H5c-1.1 0-2 .9-2 2v14c0 1.1.9 2 2 2h14c1.1 0 2-.9 2-2V5c0-1.1-.9-2-2-2zM9 17H7v-7h2v7zm4 0h-2V7h2v10zm4 0h-2v-4h2v4z\"/>\n",
              "    </g>\n",
              "</svg>\n",
              "  </button>\n",
              "\n",
              "<style>\n",
              "  .colab-df-quickchart {\n",
              "      --bg-color: #E8F0FE;\n",
              "      --fill-color: #1967D2;\n",
              "      --hover-bg-color: #E2EBFA;\n",
              "      --hover-fill-color: #174EA6;\n",
              "      --disabled-fill-color: #AAA;\n",
              "      --disabled-bg-color: #DDD;\n",
              "  }\n",
              "\n",
              "  [theme=dark] .colab-df-quickchart {\n",
              "      --bg-color: #3B4455;\n",
              "      --fill-color: #D2E3FC;\n",
              "      --hover-bg-color: #434B5C;\n",
              "      --hover-fill-color: #FFFFFF;\n",
              "      --disabled-bg-color: #3B4455;\n",
              "      --disabled-fill-color: #666;\n",
              "  }\n",
              "\n",
              "  .colab-df-quickchart {\n",
              "    background-color: var(--bg-color);\n",
              "    border: none;\n",
              "    border-radius: 50%;\n",
              "    cursor: pointer;\n",
              "    display: none;\n",
              "    fill: var(--fill-color);\n",
              "    height: 32px;\n",
              "    padding: 0;\n",
              "    width: 32px;\n",
              "  }\n",
              "\n",
              "  .colab-df-quickchart:hover {\n",
              "    background-color: var(--hover-bg-color);\n",
              "    box-shadow: 0 1px 2px rgba(60, 64, 67, 0.3), 0 1px 3px 1px rgba(60, 64, 67, 0.15);\n",
              "    fill: var(--button-hover-fill-color);\n",
              "  }\n",
              "\n",
              "  .colab-df-quickchart-complete:disabled,\n",
              "  .colab-df-quickchart-complete:disabled:hover {\n",
              "    background-color: var(--disabled-bg-color);\n",
              "    fill: var(--disabled-fill-color);\n",
              "    box-shadow: none;\n",
              "  }\n",
              "\n",
              "  .colab-df-spinner {\n",
              "    border: 2px solid var(--fill-color);\n",
              "    border-color: transparent;\n",
              "    border-bottom-color: var(--fill-color);\n",
              "    animation:\n",
              "      spin 1s steps(1) infinite;\n",
              "  }\n",
              "\n",
              "  @keyframes spin {\n",
              "    0% {\n",
              "      border-color: transparent;\n",
              "      border-bottom-color: var(--fill-color);\n",
              "      border-left-color: var(--fill-color);\n",
              "    }\n",
              "    20% {\n",
              "      border-color: transparent;\n",
              "      border-left-color: var(--fill-color);\n",
              "      border-top-color: var(--fill-color);\n",
              "    }\n",
              "    30% {\n",
              "      border-color: transparent;\n",
              "      border-left-color: var(--fill-color);\n",
              "      border-top-color: var(--fill-color);\n",
              "      border-right-color: var(--fill-color);\n",
              "    }\n",
              "    40% {\n",
              "      border-color: transparent;\n",
              "      border-right-color: var(--fill-color);\n",
              "      border-top-color: var(--fill-color);\n",
              "    }\n",
              "    60% {\n",
              "      border-color: transparent;\n",
              "      border-right-color: var(--fill-color);\n",
              "    }\n",
              "    80% {\n",
              "      border-color: transparent;\n",
              "      border-right-color: var(--fill-color);\n",
              "      border-bottom-color: var(--fill-color);\n",
              "    }\n",
              "    90% {\n",
              "      border-color: transparent;\n",
              "      border-bottom-color: var(--fill-color);\n",
              "    }\n",
              "  }\n",
              "</style>\n",
              "\n",
              "  <script>\n",
              "    async function quickchart(key) {\n",
              "      const quickchartButtonEl =\n",
              "        document.querySelector('#' + key + ' button');\n",
              "      quickchartButtonEl.disabled = true;  // To prevent multiple clicks.\n",
              "      quickchartButtonEl.classList.add('colab-df-spinner');\n",
              "      try {\n",
              "        const charts = await google.colab.kernel.invokeFunction(\n",
              "            'suggestCharts', [key], {});\n",
              "      } catch (error) {\n",
              "        console.error('Error during call to suggestCharts:', error);\n",
              "      }\n",
              "      quickchartButtonEl.classList.remove('colab-df-spinner');\n",
              "      quickchartButtonEl.classList.add('colab-df-quickchart-complete');\n",
              "    }\n",
              "    (() => {\n",
              "      let quickchartButtonEl =\n",
              "        document.querySelector('#df-5a29ed84-83c0-4c1f-9b0b-9060bb857b6a button');\n",
              "      quickchartButtonEl.style.display =\n",
              "        google.colab.kernel.accessAllowed ? 'block' : 'none';\n",
              "    })();\n",
              "  </script>\n",
              "</div>\n",
              "    </div>\n",
              "  </div>\n"
            ],
            "text/plain": [
              "          date        Open        High         Low       Close   Adj Close  \\\n",
              "0   2019-09-23   53.383072   53.600066   53.066113   53.326996   53.326996   \n",
              "1   2019-09-24   53.890204   54.246174   52.953959   53.073425   53.073425   \n",
              "2   2019-09-25   53.285552   54.004802   52.941773   53.890209   53.890209   \n",
              "3   2019-09-26   53.639082   53.868268   53.353820   53.612263   53.612263   \n",
              "4   2019-09-27   53.770740   53.873145   52.975908   53.351383   53.351383   \n",
              "..         ...         ...         ...         ...         ...         ...   \n",
              "863 2023-02-27  147.710007  149.169998  147.449997  147.919998  147.919998   \n",
              "864 2023-02-28  147.050003  149.080002  146.830002  147.410004  147.410004   \n",
              "865 2023-03-01  146.830002  147.229996  145.009995  145.309998  145.309998   \n",
              "866 2023-03-02  144.380005  146.710007  143.899994  145.910004  145.910004   \n",
              "867 2023-03-03  148.039993  151.110001  147.330002  151.029999  151.029999   \n",
              "\n",
              "        Volume  Dividends  Stock Splits  \n",
              "0     76662000        0.0           0.0  \n",
              "1    124763200        0.0           0.0  \n",
              "2     87613600        0.0           0.0  \n",
              "3     75334000        0.0           0.0  \n",
              "4    101408000        0.0           0.0  \n",
              "..         ...        ...           ...  \n",
              "863   44998500        0.0           0.0  \n",
              "864   50547000        0.0           0.0  \n",
              "865   55479000        0.0           0.0  \n",
              "866   52279800        0.0           0.0  \n",
              "867   70668500        0.0           0.0  \n",
              "\n",
              "[868 rows x 9 columns]"
            ]
          },
          "execution_count": 4,
          "metadata": {},
          "output_type": "execute_result"
        }
      ],
      "source": [
        "aapl_df"
      ]
    },
    {
      "cell_type": "code",
      "execution_count": 5,
      "metadata": {
        "colab": {
          "base_uri": "https://localhost:8080/",
          "height": 567
        },
        "id": "SYRaQ4UKtAjM",
        "outputId": "aa3e2fa0-1fda-48f5-8e63-c15c489a608a"
      },
      "outputs": [
        {
          "data": {
            "text/html": [
              "<iframe\n",
              "    scrolling=\"no\"\n",
              "    width=\"100%\"\n",
              "    height=\"545px\"\n",
              "    src=\"iframe_figures/figure_5.html\"\n",
              "    frameborder=\"0\"\n",
              "    allowfullscreen\n",
              "></iframe>\n"
            ]
          },
          "metadata": {},
          "output_type": "display_data"
        }
      ],
      "source": [
        "fig = px.scatter(data_frame=aapl_df, x='date', y='Adj Close', trendline='ols', title='AAPL')\n",
        "fig.show()"
      ]
    },
    {
      "cell_type": "code",
      "execution_count": 6,
      "metadata": {
        "colab": {
          "base_uri": "https://localhost:8080/",
          "height": 567
        },
        "id": "SZoaz2ZEtE-Z",
        "outputId": "78521e46-9b35-436a-8127-23e2ef91d98a"
      },
      "outputs": [
        {
          "data": {
            "text/html": [
              "<iframe\n",
              "    scrolling=\"no\"\n",
              "    width=\"100%\"\n",
              "    height=\"545px\"\n",
              "    src=\"iframe_figures/figure_6.html\"\n",
              "    frameborder=\"0\"\n",
              "    allowfullscreen\n",
              "></iframe>\n"
            ]
          },
          "metadata": {},
          "output_type": "display_data"
        }
      ],
      "source": [
        "fig = px.scatter(data_frame=btc_df, x='date', y='Close', trendline='ols', title='BTC')\n",
        "fig.show()"
      ]
    },
    {
      "cell_type": "code",
      "execution_count": 7,
      "metadata": {
        "colab": {
          "base_uri": "https://localhost:8080/",
          "height": 567
        },
        "id": "tWImLWeqtHzM",
        "outputId": "11679d9a-211a-492b-85c2-692678717505"
      },
      "outputs": [
        {
          "data": {
            "text/html": [
              "<iframe\n",
              "    scrolling=\"no\"\n",
              "    width=\"100%\"\n",
              "    height=\"545px\"\n",
              "    src=\"iframe_figures/figure_7.html\"\n",
              "    frameborder=\"0\"\n",
              "    allowfullscreen\n",
              "></iframe>\n"
            ]
          },
          "metadata": {},
          "output_type": "display_data"
        }
      ],
      "source": [
        "fig = px.scatter(data_frame=gas_df, x='Date', y='Close', trendline='ols', title='GAS(N.NG)')\n",
        "fig.show()\n"
      ]
    },
    {
      "cell_type": "markdown",
      "metadata": {
        "id": "oQIbNujytNXG"
      },
      "source": [
        "- на основе Close извлеките логарифмическую доходность BTC task1, ответ – мю и сигма\n",
        "- проверьте распределение получившихся данных BTC task2, ответ yes/no\n",
        "- возможно попробуйте их (BTC) нормализовать task3, ответ – mu и sigma\n",
        "- попробуйте предположить по подвыборке размером 634 дней среднее значение для доходностей (BTC) на уровне 90 95 99 – task 4, ответ – val + [a;b]\n",
        "- проверьте корреляцию доходностей BTC & AAPL – task5, ответ – yes/no\n",
        "- проверьте гипотезу о равенствен средних и дисперсии доходностей BTC & AAPL & GAS – task6, ответ – yes/no"
      ]
    },
    {
      "cell_type": "code",
      "execution_count": 8,
      "metadata": {
        "colab": {
          "base_uri": "https://localhost:8080/"
        },
        "id": "uV69E4GFtKdL",
        "outputId": "a5348a57-6f68-4376-be28-40abf3b1a4e9"
      },
      "outputs": [
        {
          "data": {
            "text/plain": [
              "(0.0006404770261511352, 0.03868217781397536)"
            ]
          },
          "execution_count": 8,
          "metadata": {},
          "output_type": "execute_result"
        }
      ],
      "source": [
        "# 1\n",
        "btc_lr = pd.Series(btc_df['Close']/btc_df['Open']).apply(lambda x: np.log(x))\n",
        "btc_lr_mean = btc_lr.mean()\n",
        "btc_lr_std = btc_lr.std()\n",
        "btc_lr_mean, btc_lr_std"
      ]
    },
    {
      "cell_type": "code",
      "execution_count": 9,
      "metadata": {
        "colab": {
          "base_uri": "https://localhost:8080/",
          "height": 567
        },
        "id": "Jhls3Sg8tjIz",
        "outputId": "e1cd816e-56ed-403d-d269-d2f936675d47"
      },
      "outputs": [
        {
          "data": {
            "text/html": [
              "<iframe\n",
              "    scrolling=\"no\"\n",
              "    width=\"100%\"\n",
              "    height=\"545px\"\n",
              "    src=\"iframe_figures/figure_9.html\"\n",
              "    frameborder=\"0\"\n",
              "    allowfullscreen\n",
              "></iframe>\n"
            ]
          },
          "metadata": {},
          "output_type": "display_data"
        }
      ],
      "source": [
        "fig = px.histogram(data_frame = btc_lr)\n",
        "fig.show()"
      ]
    },
    {
      "cell_type": "markdown",
      "metadata": {
        "id": "P8vWjL6_vj2x"
      },
      "source": [
        "Для проверки на нормальность распределения воспользуемся тестом Шапиро"
      ]
    },
    {
      "cell_type": "code",
      "execution_count": 10,
      "metadata": {
        "colab": {
          "base_uri": "https://localhost:8080/"
        },
        "id": "3A_E_DyhvkwX",
        "outputId": "65e4ac8b-224f-47d8-aa8e-c647cee0bae2"
      },
      "outputs": [
        {
          "name": "stdout",
          "output_type": "stream",
          "text": [
            "not normally distributed\n"
          ]
        }
      ],
      "source": [
        "# 2\n",
        "\n",
        "from scipy.stats import shapiro\n",
        "\n",
        "stat, p = shapiro(btc_lr)\n",
        "\n",
        "alpha = 0.05\n",
        "print('normally distributed' if p > alpha else 'not normally distributed')"
      ]
    },
    {
      "cell_type": "code",
      "execution_count": 11,
      "metadata": {
        "colab": {
          "base_uri": "https://localhost:8080/"
        },
        "id": "pxsLO7NPvqil",
        "outputId": "5c58158a-8180-4082-f110-5d48542d88d5"
      },
      "outputs": [
        {
          "data": {
            "text/plain": [
              "(-8.465560791422958e-18, 0.9996027805205745)"
            ]
          },
          "execution_count": 11,
          "metadata": {},
          "output_type": "execute_result"
        }
      ],
      "source": [
        "# 3\n",
        "\n",
        "# Приводим btc profit к стандартному распределению\n",
        "btc_lr_standart = ((btc_lr - btc_lr_mean) / btc_lr_std).dropna()\n",
        "btc_lrs_mean = np.mean(btc_lr_standart)\n",
        "btc_lrs_std = np.std(btc_lr_standart)\n",
        "btc_lrs_mean, btc_lrs_std"
      ]
    },
    {
      "cell_type": "code",
      "execution_count": 12,
      "metadata": {
        "colab": {
          "base_uri": "https://localhost:8080/"
        },
        "id": "gZKYGXLv0bn1",
        "outputId": "c5fdcf23-d0cd-4af0-d408-74d7d69635b9"
      },
      "outputs": [
        {
          "name": "stdout",
          "output_type": "stream",
          "text": [
            "Среднее -  0.0005505809592546728\n",
            "ДИ с уровнем значимости 90%:  (-0.0007528143152754681, 0.0018539762337848138)\n",
            "ДИ с уровнем значимости 95%:  (-0.0011226624717889074, 0.002223824390298253)\n",
            "ДИ с уровнем значимости 99%:  (-0.001817193375920679, 0.0029183552944300247)\n"
          ]
        }
      ],
      "source": [
        "# 4\n",
        "\n",
        "btc_lrr_634 = btc_lr.sample(634)\n",
        "btc_lrr_size = len(btc_lr)\n",
        "btc_lrr_634_mean = np.mean(btc_lrr_634)\n",
        "btc_lrr_634_std = np.std(btc_lrr_634)\n",
        "\n",
        "# критические значения t-распределения\n",
        "t_values = stats.t.ppf([0.9, 0.95, 0.99], df=btc_lrr_size-1)\n",
        "# доверительные интервалы\n",
        "confidence_intervals = [(btc_lrr_634_mean - t_value * btc_lrr_634_std / np.sqrt(btc_lrr_size),\n",
        "                         btc_lrr_634_mean + t_value * btc_lrr_634_std / np.sqrt(btc_lrr_size)) for t_value in t_values]\n",
        "\n",
        "print(\"Среднее - \", btc_lrr_634_mean)\n",
        "print(\"ДИ с уровнем значимости 90%: \", confidence_intervals[0])\n",
        "print(\"ДИ с уровнем значимости 95%: \", confidence_intervals[1])\n",
        "print(\"ДИ с уровнем значимости 99%: \", confidence_intervals[2])"
      ]
    },
    {
      "cell_type": "code",
      "execution_count": 16,
      "metadata": {
        "colab": {
          "base_uri": "https://localhost:8080/"
        },
        "id": "gWcdjSk759Md",
        "outputId": "704b2c91-3218-4aae-fbc8-e7dc745ae19c"
      },
      "outputs": [
        {
          "data": {
            "text/plain": [
              "('Корелляция', 0.025941094330360036)"
            ]
          },
          "execution_count": 16,
          "metadata": {},
          "output_type": "execute_result"
        }
      ],
      "source": [
        "# 5\n",
        "aapl_lr = pd.Series(aapl_df['Close']/aapl_df['Open']).apply(lambda x: np.log(x))\n",
        "\"Корелляция\", btc_lr.corr(aapl_lr) # no"
      ]
    },
    {
      "cell_type": "code",
      "execution_count": 17,
      "metadata": {
        "colab": {
          "base_uri": "https://localhost:8080/"
        },
        "id": "Pg06jRpYQrz0",
        "outputId": "566ea771-b7cd-42b2-858e-9a37708be057"
      },
      "outputs": [
        {
          "name": "stdout",
          "output_type": "stream",
          "text": [
            "0.0006404770261511352 0.0011301782213586423 -0.0016151406711920951\n",
            "0.0014963108804320073 0.00028863750173260545 0.0017172581186976831\n"
          ]
        }
      ],
      "source": [
        "# 6\n",
        "gas_lr = pd.Series(gas_df['Close']/gas_df['Open']).apply(lambda x: np.log(x))\n",
        "print(btc_lr.mean(), aapl_lr.mean(), gas_lr.mean())\n",
        "print(btc_lr.var(), aapl_lr.var(), gas_lr.var())"
      ]
    },
    {
      "cell_type": "code",
      "execution_count": 14,
      "metadata": {
        "id": "_nXES8ZswuJD"
      },
      "outputs": [],
      "source": [
        "ANSWERS = {\n",
        "    'tasks' : {\n",
        "        'task1_mu' : {\n",
        "            \"answer\" : 0.0006404770261511352\n",
        "        },\n",
        "        'task1_sigma' : {\n",
        "            \"answer\" : 0.03868217781397536\n",
        "        },\n",
        "        'task2_normal' : {\n",
        "            'answer' : 'no'\n",
        "        },\n",
        "        'task3_mu' : {\n",
        "            \"answer\" : -8.465560791422958e-18\n",
        "        },\n",
        "        'task3_sigma' : {\n",
        "            \"answer\" : 0.9996027805205745\n",
        "        },\n",
        "        'task4_90' : {\n",
        "            \"answer\" : -0.00026418159885703855\n",
        "        },\n",
        "        'task4_90_int' : {\n",
        "            \"answer\" : [-0.0017678692314442987, 0.0012395060337302218]\n",
        "        },\n",
        "        'task4_95' : {\n",
        "            \"answer\" : -0.00026418159885703855\n",
        "        },\n",
        "        'task4_95_int' : {\n",
        "            \"answer\" : [-0.002194551842431159, 0.0016661886447170821]\n",
        "        },\n",
        "        'task4_99' : {\n",
        "            \"answer\" : -0.00026418159885703855\n",
        "        },\n",
        "        'task4_99_int' : {\n",
        "            \"answer\" : [-0.002995811100770171, 0.0024674479030560937]\n",
        "        },\n",
        "        'task5_corr' : {\n",
        "            \"answer\" : \"no\"\n",
        "        },\n",
        "        'task6_corr_mu' : {\n",
        "            \"answer\" : \"no\"\n",
        "        },\n",
        "        'task6_corr_sigma' : {\n",
        "            \"answer\" : \"no\"\n",
        "        }\n",
        "    }\n",
        "}"
      ]
    },
    {
      "cell_type": "code",
      "execution_count": 15,
      "metadata": {
        "colab": {
          "base_uri": "https://localhost:8080/"
        },
        "id": "kCj-0pTn5C2-",
        "outputId": "269b331d-31de-4ed1-d1af-4621cde8c796"
      },
      "outputs": [
        {
          "name": "stdout",
          "output_type": "stream",
          "text": [
            "tasks:\n",
            "  task1_mu:\n",
            "    answer: 0.0006404770261511352\n",
            "  task1_sigma:\n",
            "    answer: 0.03868217781397536\n",
            "  task2_normal:\n",
            "    answer: 'no'\n",
            "  task3_mu:\n",
            "    answer: -8.465560791422958e-18\n",
            "  task3_sigma:\n",
            "    answer: 0.9996027805205745\n",
            "  task4_90:\n",
            "    answer: -0.00026418159885703855\n",
            "  task4_90_int:\n",
            "    answer:\n",
            "    - -0.0017678692314442987\n",
            "    - 0.0012395060337302218\n",
            "  task4_95:\n",
            "    answer: -0.00026418159885703855\n",
            "  task4_95_int:\n",
            "    answer:\n",
            "    - -0.002194551842431159\n",
            "    - 0.0016661886447170821\n",
            "  task4_99:\n",
            "    answer: -0.00026418159885703855\n",
            "  task4_99_int:\n",
            "    answer:\n",
            "    - -0.002995811100770171\n",
            "    - 0.0024674479030560937\n",
            "  task5_corr:\n",
            "    answer: 'no'\n",
            "  task6_corr_mu:\n",
            "    answer: 'no'\n",
            "  task6_corr_sigma:\n",
            "    answer: 'no'\n",
            "\n"
          ]
        }
      ],
      "source": [
        "import yaml\n",
        "yaml_result = yaml.dump(ANSWERS)\n",
        "\n",
        "print(yaml_result)\n",
        "\n",
        "with open(f\"hw03.yaml\", \"w\") as f:\n",
        "    f.write(yaml_result)"
      ]
    }
  ],
  "metadata": {
    "colab": {
      "provenance": []
    },
    "kernelspec": {
      "display_name": "Python 3",
      "name": "python3"
    },
    "language_info": {
      "name": "python"
    }
  },
  "nbformat": 4,
  "nbformat_minor": 0
}
